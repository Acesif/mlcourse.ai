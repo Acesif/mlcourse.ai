{
 "cells": [
  {
   "cell_type": "markdown",
   "id": "7072dc12",
   "metadata": {},
   "source": [
    "(topic09_part2)=\n",
    "\n",
    "# Topic 9. Time series analysis in Python. Part 2. Predicting the future with Facebook Prophet\n",
    "\n",
    "<img src=\"https://habrastorage.org/webt/ia/m9/zk/iam9zkyzqebnf_okxipihkgjwnw.jpeg\" />\n",
    "\n",
    "**<center>[mlcourse.ai](https://mlcourse.ai) – Open Machine Learning Course** </center><br>\n",
    "Author: [Egor Polusmak](https://www.linkedin.com/in/egor-polusmak/). Translated and edited by [Yuanyuan Pao](https://www.linkedin.com/in/yuanyuanpao/). This material is subject to the terms and conditions of the [Creative Commons CC BY-NC-SA 4.0](https://creativecommons.org/licenses/by-nc-sa/4.0/) license. Free use is permitted for any non-commercial purpose.\n",
    "\n",
    "Time series forecasting finds wide application in data analytics. These are only some of the conceivable predictions of future trends that might be useful:\n",
    "- The number of servers that an online service will need next year.\n",
    "- The demand for a grocery product at a supermarket on a given day.\n",
    "- The tomorrow closing price of a tradable financial asset.\n",
    "\n",
    "For another example, we can make a prediction of some team's performance and then use it as a baseline: first to set goals for the team, and then to measure the actual team performance relative to the baseline.\n",
    "\n",
    "There are quite a few different methods to predict future trends, for example, [ARIMA](https://en.wikipedia.org/wiki/Autoregressive_integrated_moving_average), [ARCH](https://en.wikipedia.org/wiki/Autoregressive_conditional_heteroskedasticity), [regressive models](https://en.wikipedia.org/wiki/Autoregressive_model), [neural networks](https://medium.com/machine-learning-world/neural-networks-for-algorithmic-trading-1-2-correct-time-series-forecasting-backtesting-9776bfd9e589).\n",
    "\n",
    "In this article, we will look at [Prophet](https://facebook.github.io/prophet/), a library for time series forecasting released by Facebook and open-sourced on February 23, 2017. We will also try it out in the problem of predicting the daily number of posts published on Medium.\n",
    "\n",
    "## Article outline\n",
    "\n",
    "1. Introduction\n",
    "2. [The Prophet Forecasting Model](#the-prophet-forecasting-model)\n",
    "3. [Practice with Prophet](#practice-with-facebook-prophet)\n",
    "    * 3.1 Installation in Python\n",
    "    * 3.2 Dataset\n",
    "    * 3.3 Exploratory visual analysis\n",
    "    * 3.4 Making a forecast\n",
    "    * 3.5 Forecast quality evaluation\n",
    "    * 3.6 Visualization\n",
    "4. [Box-Cox Transformation](#box-cox-transformation)\n",
    "5. [Summary](#summary)\n",
    "6. [References](#references)\n",
    "\n",
    "## 1. Introduction\n",
    "\n",
    "According to the [article](https://facebook.github.io/prophet/static/prophet_paper_20170113.pdf) by Facebook Research, Prophet was initially developed for the purpose of creating high quality business forecasts. This library tries to address the following difficulties common to many business time series:\n",
    "- Seasonal effects caused by human behavior: weekly, monthly and yearly cycles, dips and peaks on public holidays.\n",
    "- Changes in trend due to new products and market events.\n",
    "- Outliers.\n",
    "\n",
    "The authors claim that, even with the default settings, in many cases, their library produces forecasts as accurate as those delivered by experienced analysts.\n",
    "\n",
    "Moreover, Prophet has a number of intuitive and easily interpretable customizations that allow gradually improving the quality of the forecasting model. What is especially important, these parameters are quite comprehensible even for non-experts in time series analysis, which is a field of data science requiring certain skill and experience.\n",
    "\n",
    "By the way, the original article is called \"Forecasting at Scale\", but it is not about the scale in the \"usual\" sense, that is addressing computational and infrastructure problems of a large number of working programs. According to the authors, Prophet should scale well in the following 3 areas:\n",
    "- Accessibility to a wide audience of analysts, possibly without profound expertise in time series.\n",
    "- Applicability to a wide range of distinct forecasting problems.\n",
    "- Automated performance estimation of a large number of forecasts including flagging of potential problems for their subsequent inspection by the analyst.\n",
    "\n",
    "## 2. The Prophet Forecasting Model\n",
    "\n",
    "Now, let's take a closer look at how Prophet works. In its essence, this library utilizes the [additive regression model](https://en.wikipedia.org/wiki/Additive_model) $y(t)$ comprising the following components:\n",
    "\n",
    "$$y(t) = g(t) + s(t) + h(t) + \\epsilon_{t},$$\n",
    "\n",
    "where:\n",
    "* Trend $g(t)$ models non-periodic changes.\n",
    "* Seasonality $s(t)$ represents periodic changes.\n",
    "* Holidays component $h(t)$ contributes information about holidays and events.\n",
    "\n",
    "Below, we will consider some important properties of these model components.\n",
    "\n",
    "### Trend\n",
    "\n",
    "The Prophet library implements two possible trend models for $g(t)$.\n",
    "\n",
    "The first one is called *Nonlinear, Saturating Growth*. It is represented in the form of the [logistic growth model](https://en.wikipedia.org/wiki/Logistic_function):\n",
    "\n",
    "$$g(t) = \\frac{C}{1+e^{-k(t - m)}},$$\n",
    "\n",
    "where:\n",
    "* $C$ is the carrying capacity (that is the curve's maximum value).\n",
    "* $k$ is the growth rate (which represents \"the steepness\" of the curve).\n",
    "* $m$ is an offset parameter.\n",
    "\n",
    "This logistic equation allows modelling non-linear growth with saturation, that is when the growth rate of a value decreases with its growth. One of the typical examples would be representing the growth of the audience of an application or a website.\n",
    "\n",
    "Actually, $C$ and $k$ are not necessarily constants and may vary over time. Prophet supports both automatic and manual tuning of their variability. The library can itself choose optimal points of trend changes by fitting the supplied historical data.\n",
    "\n",
    "Also, Prophet allows analysts to manually set changepoints of the growth rate and capacity values at different points in time. For instance, analysts may have insights about dates of past releases that prominently influenced some key product indicators.\n",
    "\n",
    "The second trend model is a simple *Piecewise Linear Model* with a constant rate of growth. It is best suited for problems without saturating growth.\n",
    "\n",
    "### Seasonality\n",
    "\n",
    "The seasonal component $s(t)$ provides a flexible model of periodic changes due to weekly and yearly seasonality.\n",
    "\n",
    "Weekly seasonal data is modeled with dummy variables. Six new variables are added: `monday`, `tuesday`, `wednesday`, `thursday`, `friday`, `saturday`, which take values 0 or 1 depending on the day of the week. The feature `sunday` is not added because it would be a linear combination of the other days of the week, and this fact would have an adverse effect on the model.\n",
    "\n",
    "Yearly seasonality model in Prophet relies on Fourier series.\n",
    "\n",
    "Since [version 0.2](https://github.com/facebook/prophet) you can also use *sub-daily time series* and make *sub-daily forecasts* as well as employ the new *daily seasonality* feature.\n",
    "\n",
    "### Holidays and Events\n",
    "\n",
    "The component $h(t)$ represents predictable abnormal days of the year including those on irregular schedules, e.g., Black Fridays.\n",
    "\n",
    "To utilize this feature, the analyst needs to provide a custom list of events.\n",
    "\n",
    "### Error\n",
    "\n",
    "The error term $\\epsilon(t)$ represents information that was not reflected in the model. Usually it is modeled as normally distributed noise.\n",
    "\n",
    "### Prophet Benchmarking\n",
    "\n",
    "For a detailed description of the model and algorithms behind Prophet refer to the paper [\"Forecasting at scale\"](https://peerj.com/preprints/3190/) by Sean J. Taylor and Benjamin Letham.\n",
    "\n",
    "The authors also compared their library with several other methods for time series forecasting. They used [Mean Absolute Percentage Error (MAPE)](https://en.wikipedia.org/wiki/Mean_absolute_percentage_error) as a measure of prediction accuracy. In this research, Prophet has shown substantially lower forecasting error than the other models.\n",
    "\n",
    "<img src=\"../../_static/img/topic9_benchmarking_prophet.png\" />\n",
    "\n",
    "Let's look closer at how the forecasting quality was measured in the article. To do this, we will need the formula of Mean Absolute Percentage Error.\n",
    "\n",
    "Let $y_{i}$ be the *actual (historical) value* and $\\hat{y}_{i}$ be the *forecast value* given by our model.\n",
    "\n",
    "Then $e_{i} = y_{i} - \\hat{y}_{i}$ is the *forecast error* and $p_{i} =\\frac{\\displaystyle e_{i}}{\\displaystyle y_{i}}$ is the *relative forecast error*.\n",
    "\n",
    "We define\n",
    "\n",
    "$$MAPE = mean\\big(\\left |p_{i} \\right |\\big)$$\n",
    "\n",
    "MAPE is widely used as a measure of prediction accuracy because it expresses error as a percentage and thus can be used in model evaluations on different datasets.\n",
    "\n",
    "In addition, when evaluating a forecasting algorithm, it may prove useful to calculate [MAE (Mean Absolute Error)](https://en.wikipedia.org/wiki/Mean_absolute_error) in order to have a picture of errors in absolute numbers. Using previously defined components, its equation will be\n",
    "\n",
    "$$MAE = mean\\big(\\left |e_{i}\\right |\\big)$$\n",
    "\n",
    "A few words about the algorithms that Prophet was compared with. Most of them are quite simple and often are used as a baseline for other models:\n",
    "* `naive` is a simplistic forecasting approach where we predict all future values relying solely on the observation at the last available point of time.\n",
    "* `snaive` (seasonal naive) is a model that makes constant predictions taking into account information about seasonality. For instance, in the case of weekly seasonal data for each future Monday, we would predict the value from the last Monday, and for all future Tuesdays we would use the value from the last Tuesday and so on.\n",
    "* `mean` uses the averaged value of data as a forecast.\n",
    "* `arima` stands for *Autoregressive Integrated Moving Average*, see [Wikipedia](https://en.wikipedia.org/wiki/Autoregressive_integrated_moving_average) for details.\n",
    "* `ets` stands for *Exponential Smoothing*, see [Wikipedia](https://en.wikipedia.org/wiki/Exponential_smoothing) for more.\n",
    "\n",
    "## 3. Practice with Facebook Prophet\n",
    "\n",
    "### 3.1 Installation in Python\n",
    "\n",
    "First, you need to install the library. Prophet is available for Python and R. The choice will depend on your personal preferences and project requirements. Further in this article we will use Python.\n",
    "\n",
    "In Python you can install Prophet using PyPI:\n",
    "```\n",
    "$ pip install fbprophet\n",
    "```\n",
    "\n",
    "In R you can find the corresponding CRAN package. Refer to the [documentation](https://facebook.github.io/prophet/docs/installation.html) for details.\n",
    "\n",
    "Let's import the modules that we will need, and initialize our environment:"
   ]
  },
  {
   "cell_type": "code",
   "execution_count": 1,
   "id": "9558c2c4",
   "metadata": {},
   "outputs": [],
   "source": [
    "import os\n",
    "from pathlib import Path\n",
    "import warnings\n",
    "warnings.filterwarnings(\"ignore\")\n",
    "\n",
    "import numpy as np\n",
    "import pandas as pd\n",
    "import statsmodels.api as sm\n",
    "from scipy import stats\n",
    "\n",
    "import matplotlib.pyplot as plt\n",
    "#%config InlineBackend.figure_format = 'retina'"
   ]
  },
  {
   "cell_type": "markdown",
   "id": "74a033d3",
   "metadata": {},
   "source": [
    "### 3.2 Dataset\n",
    "\n",
    "We will predict the daily number of posts published on [Medium](https://medium.com/).\n",
    "\n",
    "First, we load our dataset."
   ]
  },
  {
   "cell_type": "code",
   "execution_count": 2,
   "id": "24b5d3d3",
   "metadata": {},
   "outputs": [],
   "source": [
    "def download_file_from_gdrive(file_url, filename, out_path: Path, overwrite=False):\n",
    "    \"\"\"\n",
    "    Downloads a file from GDrive given an URL\n",
    "    :param file_url: a string formated as https://drive.google.com/uc?id=<file_id>\n",
    "    :param: the desired file name\n",
    "    :param: the desired folder where the file will be downloaded to\n",
    "    :param overwrite: whether to overwrite the file if it already exists\n",
    "    \"\"\"\n",
    "    file_exists = (out_path / filename).exists()\n",
    "\n",
    "    if (file_exists and overwrite) or (not file_exists):\n",
    "        os.system(f'gdown {file_url} -O {out_path}/{filename}')"
   ]
  },
  {
   "cell_type": "code",
   "execution_count": 3,
   "id": "dad97176",
   "metadata": {},
   "outputs": [],
   "source": [
    "FILE_URL = \"https://drive.google.com/uc?id=1et3FfGQzm_lw0AWtZ0125TKKbD6dTwdi\"\n",
    "FILE_NAME = \"medium_posts.csv\"\n",
    "DATA_PATH = Path(\"../../../data/large_files\")\n",
    "\n",
    "download_file_from_gdrive(file_url=FILE_URL, filename= FILE_NAME, out_path=DATA_PATH)\n",
    "\n",
    "df = pd.read_csv(DATA_PATH / FILE_NAME,  sep=\"\\t\")"
   ]
  },
  {
   "cell_type": "markdown",
   "id": "cbcb4a2e",
   "metadata": {},
   "source": [
    "Next, we leave out all columns except `published` and `url`. The former corresponds to the time dimension while the latter uniquely identifies a post by its URL. Along the way we get rid of possible duplicates and missing values in the data:"
   ]
  },
  {
   "cell_type": "code",
   "execution_count": 4,
   "id": "87fdce60",
   "metadata": {},
   "outputs": [],
   "source": [
    "df = df[[\"published\", \"url\"]].dropna().drop_duplicates()"
   ]
  },
  {
   "cell_type": "markdown",
   "id": "583b266f",
   "metadata": {},
   "source": [
    "Next, we need to convert `published` to the datetime format because by default `pandas` treats this field as string-valued."
   ]
  },
  {
   "cell_type": "code",
   "execution_count": 5,
   "id": "45f44413",
   "metadata": {},
   "outputs": [],
   "source": [
    "df[\"published\"] = pd.to_datetime(df[\"published\"])"
   ]
  },
  {
   "cell_type": "markdown",
   "id": "6c73ff10",
   "metadata": {},
   "source": [
    "Let's sort the dataframe by time and take a look at what we've got:"
   ]
  },
  {
   "cell_type": "code",
   "execution_count": 6,
   "id": "c37991df",
   "metadata": {},
   "outputs": [
    {
     "data": {
      "text/html": [
       "<div>\n",
       "<style scoped>\n",
       "    .dataframe tbody tr th:only-of-type {\n",
       "        vertical-align: middle;\n",
       "    }\n",
       "\n",
       "    .dataframe tbody tr th {\n",
       "        vertical-align: top;\n",
       "    }\n",
       "\n",
       "    .dataframe thead th {\n",
       "        text-align: right;\n",
       "    }\n",
       "</style>\n",
       "<table border=\"1\" class=\"dataframe\">\n",
       "  <thead>\n",
       "    <tr style=\"text-align: right;\">\n",
       "      <th></th>\n",
       "      <th>published</th>\n",
       "      <th>url</th>\n",
       "    </tr>\n",
       "  </thead>\n",
       "  <tbody>\n",
       "    <tr>\n",
       "      <th>50931</th>\n",
       "      <td>1970-01-01 00:00:00.001000+00:00</td>\n",
       "      <td>https://medium.com/iiot</td>\n",
       "    </tr>\n",
       "    <tr>\n",
       "      <th>40243</th>\n",
       "      <td>1970-01-01 00:00:00.001000+00:00</td>\n",
       "      <td>https://medium.com/@ikaella/melon-rebranding-b...</td>\n",
       "    </tr>\n",
       "    <tr>\n",
       "      <th>37395</th>\n",
       "      <td>1970-01-18 05:11:46.500000+00:00</td>\n",
       "      <td>http://www.novosti.rs/%D0%B2%D0%B5%D1%81%D1%82...</td>\n",
       "    </tr>\n",
       "  </tbody>\n",
       "</table>\n",
       "</div>"
      ],
      "text/plain": [
       "                             published  \\\n",
       "50931 1970-01-01 00:00:00.001000+00:00   \n",
       "40243 1970-01-01 00:00:00.001000+00:00   \n",
       "37395 1970-01-18 05:11:46.500000+00:00   \n",
       "\n",
       "                                                     url  \n",
       "50931                            https://medium.com/iiot  \n",
       "40243  https://medium.com/@ikaella/melon-rebranding-b...  \n",
       "37395  http://www.novosti.rs/%D0%B2%D0%B5%D1%81%D1%82...  "
      ]
     },
     "execution_count": 6,
     "metadata": {},
     "output_type": "execute_result"
    }
   ],
   "source": [
    "df.sort_values(by=[\"published\"]).head(n=3)"
   ]
  },
  {
   "cell_type": "markdown",
   "id": "2d4d2114",
   "metadata": {},
   "source": [
    "Medium's public release date was August 15, 2012. But, as you can see from the data above, there are at least several rows with much earlier publication dates. They have somehow turned up in our dataset, but they are hardly legitimate ones. We will just trim our time series to keep only those rows that fall onto the period from August 15, 2012 to June 25, 2017:"
   ]
  },
  {
   "cell_type": "code",
   "execution_count": 7,
   "id": "b4295ef6",
   "metadata": {},
   "outputs": [
    {
     "data": {
      "text/html": [
       "<div>\n",
       "<style scoped>\n",
       "    .dataframe tbody tr th:only-of-type {\n",
       "        vertical-align: middle;\n",
       "    }\n",
       "\n",
       "    .dataframe tbody tr th {\n",
       "        vertical-align: top;\n",
       "    }\n",
       "\n",
       "    .dataframe thead th {\n",
       "        text-align: right;\n",
       "    }\n",
       "</style>\n",
       "<table border=\"1\" class=\"dataframe\">\n",
       "  <thead>\n",
       "    <tr style=\"text-align: right;\">\n",
       "      <th></th>\n",
       "      <th>published</th>\n",
       "      <th>url</th>\n",
       "    </tr>\n",
       "  </thead>\n",
       "  <tbody>\n",
       "    <tr>\n",
       "      <th>24630</th>\n",
       "      <td>2012-08-15 00:25:03.373000+00:00</td>\n",
       "      <td>https://medium.com/launch-day/jean-attempts-to...</td>\n",
       "    </tr>\n",
       "    <tr>\n",
       "      <th>24631</th>\n",
       "      <td>2012-08-15 00:25:29.419000+00:00</td>\n",
       "      <td>https://medium.com/launch-day/dan-and-kristin-...</td>\n",
       "    </tr>\n",
       "    <tr>\n",
       "      <th>17811</th>\n",
       "      <td>2012-08-15 00:34:59.502000+00:00</td>\n",
       "      <td>https://medium.com/i-m-h-o/the-world-is-social...</td>\n",
       "    </tr>\n",
       "  </tbody>\n",
       "</table>\n",
       "</div>"
      ],
      "text/plain": [
       "                             published  \\\n",
       "24630 2012-08-15 00:25:03.373000+00:00   \n",
       "24631 2012-08-15 00:25:29.419000+00:00   \n",
       "17811 2012-08-15 00:34:59.502000+00:00   \n",
       "\n",
       "                                                     url  \n",
       "24630  https://medium.com/launch-day/jean-attempts-to...  \n",
       "24631  https://medium.com/launch-day/dan-and-kristin-...  \n",
       "17811  https://medium.com/i-m-h-o/the-world-is-social...  "
      ]
     },
     "execution_count": 7,
     "metadata": {},
     "output_type": "execute_result"
    }
   ],
   "source": [
    "df = df[\n",
    "    (df[\"published\"] > \"2012-08-15\") & (df[\"published\"] < \"2017-06-26\")\n",
    "].sort_values(by=[\"published\"])\n",
    "df.head(n=3)"
   ]
  },
  {
   "cell_type": "code",
   "execution_count": 8,
   "id": "10e8783b",
   "metadata": {},
   "outputs": [
    {
     "data": {
      "text/html": [
       "<div>\n",
       "<style scoped>\n",
       "    .dataframe tbody tr th:only-of-type {\n",
       "        vertical-align: middle;\n",
       "    }\n",
       "\n",
       "    .dataframe tbody tr th {\n",
       "        vertical-align: top;\n",
       "    }\n",
       "\n",
       "    .dataframe thead th {\n",
       "        text-align: right;\n",
       "    }\n",
       "</style>\n",
       "<table border=\"1\" class=\"dataframe\">\n",
       "  <thead>\n",
       "    <tr style=\"text-align: right;\">\n",
       "      <th></th>\n",
       "      <th>published</th>\n",
       "      <th>url</th>\n",
       "    </tr>\n",
       "  </thead>\n",
       "  <tbody>\n",
       "    <tr>\n",
       "      <th>62122</th>\n",
       "      <td>2017-06-25 23:36:01.171000+00:00</td>\n",
       "      <td>https://medium.com/push-the-pace/the-official-...</td>\n",
       "    </tr>\n",
       "    <tr>\n",
       "      <th>72471</th>\n",
       "      <td>2017-06-25 23:41:48.295000+00:00</td>\n",
       "      <td>https://medium.com/parti-xyz-developers/%EA%B4...</td>\n",
       "    </tr>\n",
       "    <tr>\n",
       "      <th>83283</th>\n",
       "      <td>2017-06-25 23:51:43+00:00</td>\n",
       "      <td>http://www.johanr.com/blog/people-support-dreams</td>\n",
       "    </tr>\n",
       "  </tbody>\n",
       "</table>\n",
       "</div>"
      ],
      "text/plain": [
       "                             published  \\\n",
       "62122 2017-06-25 23:36:01.171000+00:00   \n",
       "72471 2017-06-25 23:41:48.295000+00:00   \n",
       "83283        2017-06-25 23:51:43+00:00   \n",
       "\n",
       "                                                     url  \n",
       "62122  https://medium.com/push-the-pace/the-official-...  \n",
       "72471  https://medium.com/parti-xyz-developers/%EA%B4...  \n",
       "83283   http://www.johanr.com/blog/people-support-dreams  "
      ]
     },
     "execution_count": 8,
     "metadata": {},
     "output_type": "execute_result"
    }
   ],
   "source": [
    "df.tail(n=3)"
   ]
  },
  {
   "cell_type": "markdown",
   "id": "ec60d6a5",
   "metadata": {},
   "source": [
    "As we are going to predict the number of published posts, we will aggregate and count unique posts at each given point in time. We will name the corresponding new column `posts`:"
   ]
  },
  {
   "cell_type": "code",
   "execution_count": 9,
   "id": "189bef13",
   "metadata": {},
   "outputs": [],
   "source": [
    "aggr_df = df.groupby(\"published\")[[\"url\"]].count()\n",
    "aggr_df.columns = [\"posts\"]"
   ]
  },
  {
   "cell_type": "markdown",
   "id": "d6d01054",
   "metadata": {},
   "source": [
    "In this practice, we are interested in the number of posts **a day**. But at this moment all our data is divided into irregular time intervals that are less than a day. This is called a *sub-daily time series*. To see it, let's print out the first 3 rows:"
   ]
  },
  {
   "cell_type": "code",
   "execution_count": 10,
   "id": "c17cab1c",
   "metadata": {},
   "outputs": [
    {
     "data": {
      "text/html": [
       "<div>\n",
       "<style scoped>\n",
       "    .dataframe tbody tr th:only-of-type {\n",
       "        vertical-align: middle;\n",
       "    }\n",
       "\n",
       "    .dataframe tbody tr th {\n",
       "        vertical-align: top;\n",
       "    }\n",
       "\n",
       "    .dataframe thead th {\n",
       "        text-align: right;\n",
       "    }\n",
       "</style>\n",
       "<table border=\"1\" class=\"dataframe\">\n",
       "  <thead>\n",
       "    <tr style=\"text-align: right;\">\n",
       "      <th></th>\n",
       "      <th>posts</th>\n",
       "    </tr>\n",
       "    <tr>\n",
       "      <th>published</th>\n",
       "      <th></th>\n",
       "    </tr>\n",
       "  </thead>\n",
       "  <tbody>\n",
       "    <tr>\n",
       "      <th>2012-08-15 00:25:03.373000+00:00</th>\n",
       "      <td>1</td>\n",
       "    </tr>\n",
       "    <tr>\n",
       "      <th>2012-08-15 00:25:29.419000+00:00</th>\n",
       "      <td>1</td>\n",
       "    </tr>\n",
       "    <tr>\n",
       "      <th>2012-08-15 00:34:59.502000+00:00</th>\n",
       "      <td>1</td>\n",
       "    </tr>\n",
       "  </tbody>\n",
       "</table>\n",
       "</div>"
      ],
      "text/plain": [
       "                                  posts\n",
       "published                              \n",
       "2012-08-15 00:25:03.373000+00:00      1\n",
       "2012-08-15 00:25:29.419000+00:00      1\n",
       "2012-08-15 00:34:59.502000+00:00      1"
      ]
     },
     "execution_count": 10,
     "metadata": {},
     "output_type": "execute_result"
    }
   ],
   "source": [
    "aggr_df.head(n=3)"
   ]
  },
  {
   "cell_type": "markdown",
   "id": "ebb01fa5",
   "metadata": {},
   "source": [
    "To fix this, we need to aggregate the post counts by \"bins\" of a date size. In time series analysis, this process is referred to as *resampling*. And if we *reduce* the sampling rate of data it is often called *downsampling*.\n",
    "\n",
    "Luckily, `pandas` has a built-in functionality for this task. We will resample our time index down to 1-day bins:"
   ]
  },
  {
   "cell_type": "code",
   "execution_count": 11,
   "id": "caa412a4",
   "metadata": {},
   "outputs": [
    {
     "data": {
      "text/html": [
       "<div>\n",
       "<style scoped>\n",
       "    .dataframe tbody tr th:only-of-type {\n",
       "        vertical-align: middle;\n",
       "    }\n",
       "\n",
       "    .dataframe tbody tr th {\n",
       "        vertical-align: top;\n",
       "    }\n",
       "\n",
       "    .dataframe thead th {\n",
       "        text-align: right;\n",
       "    }\n",
       "</style>\n",
       "<table border=\"1\" class=\"dataframe\">\n",
       "  <thead>\n",
       "    <tr style=\"text-align: right;\">\n",
       "      <th></th>\n",
       "      <th>posts</th>\n",
       "    </tr>\n",
       "    <tr>\n",
       "      <th>published</th>\n",
       "      <th></th>\n",
       "    </tr>\n",
       "  </thead>\n",
       "  <tbody>\n",
       "    <tr>\n",
       "      <th>2012-08-15 00:00:00+00:00</th>\n",
       "      <td>16</td>\n",
       "    </tr>\n",
       "    <tr>\n",
       "      <th>2012-08-16 00:00:00+00:00</th>\n",
       "      <td>11</td>\n",
       "    </tr>\n",
       "    <tr>\n",
       "      <th>2012-08-17 00:00:00+00:00</th>\n",
       "      <td>4</td>\n",
       "    </tr>\n",
       "  </tbody>\n",
       "</table>\n",
       "</div>"
      ],
      "text/plain": [
       "                           posts\n",
       "published                       \n",
       "2012-08-15 00:00:00+00:00     16\n",
       "2012-08-16 00:00:00+00:00     11\n",
       "2012-08-17 00:00:00+00:00      4"
      ]
     },
     "execution_count": 11,
     "metadata": {},
     "output_type": "execute_result"
    }
   ],
   "source": [
    "daily_df = aggr_df.resample(\"D\").apply(sum)\n",
    "daily_df.head(n=3)"
   ]
  },
  {
   "cell_type": "markdown",
   "id": "bb372633",
   "metadata": {},
   "source": [
    "### 3.3 Exploratory visual analysis\n",
    "\n",
    "As always, it may be helpful and instructive to look at a graphical representation of your data.\n",
    "\n",
    "We will create a time series plot for the whole time range. Displaying data over such a long period of time can give clues about seasonality and conspicuous abnormal deviations.\n",
    "\n",
    "First, we import and initialize the `Plotly` library, which allows creating beautiful interactive plots:"
   ]
  },
  {
   "cell_type": "code",
   "execution_count": 12,
   "id": "3deb4db9",
   "metadata": {},
   "outputs": [
    {
     "data": {
      "text/html": [
       "<script type=\"text/javascript\">\n",
       "window.PlotlyConfig = {MathJaxConfig: 'local'};\n",
       "if (window.MathJax && window.MathJax.Hub && window.MathJax.Hub.Config) {window.MathJax.Hub.Config({SVG: {font: \"STIX-Web\"}});}\n",
       "if (typeof require !== 'undefined') {\n",
       "require.undef(\"plotly\");\n",
       "requirejs.config({\n",
       "    paths: {\n",
       "        'plotly': ['https://cdn.plot.ly/plotly-2.17.1.min']\n",
       "    }\n",
       "});\n",
       "require(['plotly'], function(Plotly) {\n",
       "    window._Plotly = Plotly;\n",
       "});\n",
       "}\n",
       "</script>\n"
      ]
     },
     "metadata": {},
     "output_type": "display_data"
    }
   ],
   "source": [
    "from plotly import graph_objs as go\n",
    "from plotly.offline import init_notebook_mode, iplot, plot\n",
    "from IPython.display import display, IFrame\n",
    "\n",
    "# Initialize plotly\n",
    "init_notebook_mode(connected=True)"
   ]
  },
  {
   "cell_type": "markdown",
   "id": "270fbb10",
   "metadata": {},
   "source": [
    "We also define a helper function, which will plot our dataframes throughout the article:"
   ]
  },
  {
   "cell_type": "code",
   "execution_count": 13,
   "id": "53a08c4a",
   "metadata": {},
   "outputs": [],
   "source": [
    "def plotly_df(df, title=\"\", width=800, height=500):\n",
    "    \"\"\"Visualize all the dataframe columns as line plots.\"\"\"\n",
    "    common_kw = dict(x=df.index, mode=\"lines\")\n",
    "    data = [go.Scatter(y=df[c], name=c, **common_kw) for c in df.columns]\n",
    "    layout = dict(title=title)\n",
    "    fig = dict(data=data, layout=layout)\n",
    "\n",
    "    # in a Jupyter Notebook, the following should work\n",
    "    #iplot(fig, show_link=False)\n",
    "\n",
    "    # in a Jupyter Book, we save a plot offline and then render it with IFrame\n",
    "    plot_path = f\"../../_static/plotly_htmls/{title}.html\".replace(\" \", \"_\")\n",
    "    plot(fig, filename=plot_path, show_link=False, auto_open=False);\n",
    "    display(IFrame(plot_path, width=width, height=height))"
   ]
  },
  {
   "cell_type": "markdown",
   "id": "f1242f4d",
   "metadata": {},
   "source": [
    "Let's try and plot our dataset *as is*:"
   ]
  },
  {
   "cell_type": "code",
   "execution_count": 14,
   "id": "9052760c",
   "metadata": {},
   "outputs": [
    {
     "data": {
      "text/html": [
       "\n",
       "<iframe\n",
       "    width=\"800\"\n",
       "    height=\"500\"\n",
       "    src=\"../../_static/plotly_htmls/Posts_on_Medium_(daily).html\"\n",
       "    frameborder=\"0\"\n",
       "    allowfullscreen\n",
       "\n",
       "></iframe>\n"
      ],
      "text/plain": [
       "<IPython.lib.display.IFrame at 0x13808fd00>"
      ]
     },
     "metadata": {},
     "output_type": "display_data"
    }
   ],
   "source": [
    "plotly_df(daily_df, title=\"Posts on Medium (daily)\")"
   ]
  },
  {
   "cell_type": "markdown",
   "id": "93f30dbb",
   "metadata": {},
   "source": [
    "High-frequency data can be rather difficult to analyze. Even with the ability to zoom in provided by `Plotly`, it is hard to infer anything meaningful from this chart apart from the prominent upward and accelerating trend.\n",
    "\n",
    "To reduce the noise, we will resample the post counts down to weekly bins. Besides *binning*, other possible techniques of noise reduction include [Moving-Average Smoothing](https://en.wikipedia.org/wiki/Moving_average) and [Exponential Smoothing](https://en.wikipedia.org/wiki/Exponential_smoothing), among others.\n",
    "\n",
    "We save our downsampled dataframe in a separate variable because further in this practice we will work only with daily series:"
   ]
  },
  {
   "cell_type": "code",
   "execution_count": 15,
   "id": "3b56c842",
   "metadata": {},
   "outputs": [],
   "source": [
    "weekly_df = daily_df.resample(\"W\").apply(sum)"
   ]
  },
  {
   "cell_type": "markdown",
   "id": "212a6e24",
   "metadata": {},
   "source": [
    "Finally, we plot the result:"
   ]
  },
  {
   "cell_type": "code",
   "execution_count": 16,
   "id": "89d51839",
   "metadata": {},
   "outputs": [
    {
     "data": {
      "text/html": [
       "\n",
       "<iframe\n",
       "    width=\"800\"\n",
       "    height=\"500\"\n",
       "    src=\"../../_static/plotly_htmls/Posts_on_Medium_(weekly).html\"\n",
       "    frameborder=\"0\"\n",
       "    allowfullscreen\n",
       "\n",
       "></iframe>\n"
      ],
      "text/plain": [
       "<IPython.lib.display.IFrame at 0x138017370>"
      ]
     },
     "metadata": {},
     "output_type": "display_data"
    }
   ],
   "source": [
    "plotly_df(weekly_df, title=\"Posts on Medium (weekly)\")"
   ]
  },
  {
   "cell_type": "markdown",
   "id": "43af5120",
   "metadata": {},
   "source": [
    "This downsampled chart proves to be somewhat better for an analyst's perception.\n",
    "\n",
    "One of the most useful functions that `Plotly` provides is the ability to quickly dive into different periods of timeline in order to better understand the data and find visual clues about possible trends, periodic and irregular effects.\n",
    "\n",
    "For example, zooming-in on a couple of consecutive years shows us time points corresponding to Christmas holidays, which greatly influence human behaviors.\n",
    "\n",
    "Now, we're going to omit the first few years of observations, up to 2015. First, they won't contribute much into the forecast quality in 2017. Second, these first years, having very low number of posts per day, are likely to increase noise in our predictions, as the model would be forced to fit this abnormal historical data along with more relevant and indicative data from the recent years."
   ]
  },
  {
   "cell_type": "code",
   "execution_count": 17,
   "id": "432e6cf6",
   "metadata": {},
   "outputs": [
    {
     "data": {
      "text/html": [
       "<div>\n",
       "<style scoped>\n",
       "    .dataframe tbody tr th:only-of-type {\n",
       "        vertical-align: middle;\n",
       "    }\n",
       "\n",
       "    .dataframe tbody tr th {\n",
       "        vertical-align: top;\n",
       "    }\n",
       "\n",
       "    .dataframe thead th {\n",
       "        text-align: right;\n",
       "    }\n",
       "</style>\n",
       "<table border=\"1\" class=\"dataframe\">\n",
       "  <thead>\n",
       "    <tr style=\"text-align: right;\">\n",
       "      <th></th>\n",
       "      <th>posts</th>\n",
       "    </tr>\n",
       "    <tr>\n",
       "      <th>published</th>\n",
       "      <th></th>\n",
       "    </tr>\n",
       "  </thead>\n",
       "  <tbody>\n",
       "    <tr>\n",
       "      <th>2015-01-01 00:00:00+00:00</th>\n",
       "      <td>8</td>\n",
       "    </tr>\n",
       "    <tr>\n",
       "      <th>2015-01-02 00:00:00+00:00</th>\n",
       "      <td>11</td>\n",
       "    </tr>\n",
       "    <tr>\n",
       "      <th>2015-01-03 00:00:00+00:00</th>\n",
       "      <td>11</td>\n",
       "    </tr>\n",
       "  </tbody>\n",
       "</table>\n",
       "</div>"
      ],
      "text/plain": [
       "                           posts\n",
       "published                       \n",
       "2015-01-01 00:00:00+00:00      8\n",
       "2015-01-02 00:00:00+00:00     11\n",
       "2015-01-03 00:00:00+00:00     11"
      ]
     },
     "execution_count": 17,
     "metadata": {},
     "output_type": "execute_result"
    }
   ],
   "source": [
    "daily_df = daily_df.loc[daily_df.index >= \"2015-01-01\"]\n",
    "daily_df.head(n=3)"
   ]
  },
  {
   "cell_type": "markdown",
   "id": "ec8a28ed",
   "metadata": {},
   "source": [
    "To sum up, from visual analysis we can see that our dataset is non-stationary with a prominent growing trend. It also demonstrates weekly and yearly seasonality and a number of abnormal days in each year.\n",
    "\n",
    "### 3.4 Making a forecast\n",
    "\n",
    "Prophet's API is very similar to the one you can find in `sklearn`. First we create a model, then call the method `fit`, and, finally, make a forecast. The input to the method `fit` is a `DataFrame` with two columns:\n",
    "* `ds` (datestamp) must be of type `date` or `datetime`.\n",
    "* `y` is a numeric value we want to predict.\n",
    "\n",
    "To get started, we'll import the library and mute unimportant diagnostic messages:"
   ]
  },
  {
   "cell_type": "code",
   "execution_count": 18,
   "id": "e8131cd0",
   "metadata": {},
   "outputs": [],
   "source": [
    "import logging\n",
    "\n",
    "from prophet import Prophet\n",
    "\n",
    "logging.getLogger().setLevel(logging.ERROR)"
   ]
  },
  {
   "cell_type": "markdown",
   "id": "41acb09a",
   "metadata": {},
   "source": [
    "Let's convert our dataframe to the format required by Prophet:"
   ]
  },
  {
   "cell_type": "code",
   "execution_count": 19,
   "id": "11affc0d",
   "metadata": {},
   "outputs": [
    {
     "data": {
      "text/html": [
       "<div>\n",
       "<style scoped>\n",
       "    .dataframe tbody tr th:only-of-type {\n",
       "        vertical-align: middle;\n",
       "    }\n",
       "\n",
       "    .dataframe tbody tr th {\n",
       "        vertical-align: top;\n",
       "    }\n",
       "\n",
       "    .dataframe thead th {\n",
       "        text-align: right;\n",
       "    }\n",
       "</style>\n",
       "<table border=\"1\" class=\"dataframe\">\n",
       "  <thead>\n",
       "    <tr style=\"text-align: right;\">\n",
       "      <th></th>\n",
       "      <th>ds</th>\n",
       "      <th>y</th>\n",
       "    </tr>\n",
       "  </thead>\n",
       "  <tbody>\n",
       "    <tr>\n",
       "      <th>904</th>\n",
       "      <td>2017-06-23</td>\n",
       "      <td>421</td>\n",
       "    </tr>\n",
       "    <tr>\n",
       "      <th>905</th>\n",
       "      <td>2017-06-24</td>\n",
       "      <td>277</td>\n",
       "    </tr>\n",
       "    <tr>\n",
       "      <th>906</th>\n",
       "      <td>2017-06-25</td>\n",
       "      <td>253</td>\n",
       "    </tr>\n",
       "  </tbody>\n",
       "</table>\n",
       "</div>"
      ],
      "text/plain": [
       "            ds    y\n",
       "904 2017-06-23  421\n",
       "905 2017-06-24  277\n",
       "906 2017-06-25  253"
      ]
     },
     "execution_count": 19,
     "metadata": {},
     "output_type": "execute_result"
    }
   ],
   "source": [
    "df = daily_df.reset_index()\n",
    "df.columns = [\"ds\", \"y\"]\n",
    "# converting timezones (issue https://github.com/facebook/prophet/issues/831)\n",
    "df[\"ds\"] = df[\"ds\"].dt.tz_convert(None)\n",
    "df.tail(n=3)"
   ]
  },
  {
   "cell_type": "markdown",
   "id": "8169ecc1",
   "metadata": {},
   "source": [
    "The authors of the library generally advise to make predictions based on at least several months, ideally, more than a year of historical data. Luckily, in our case we have more than a couple of years of data to fit the model.\n",
    "\n",
    "To measure the quality of our forecast, we need to split our dataset into the *historical part*, which is the first and biggest slice of our data, and the *prediction part*, which will be located at the end of the timeline. We will remove the last month from the dataset in order to use it later as a prediction target:"
   ]
  },
  {
   "cell_type": "code",
   "execution_count": 20,
   "id": "8f3fde1e",
   "metadata": {},
   "outputs": [
    {
     "data": {
      "text/html": [
       "<div>\n",
       "<style scoped>\n",
       "    .dataframe tbody tr th:only-of-type {\n",
       "        vertical-align: middle;\n",
       "    }\n",
       "\n",
       "    .dataframe tbody tr th {\n",
       "        vertical-align: top;\n",
       "    }\n",
       "\n",
       "    .dataframe thead th {\n",
       "        text-align: right;\n",
       "    }\n",
       "</style>\n",
       "<table border=\"1\" class=\"dataframe\">\n",
       "  <thead>\n",
       "    <tr style=\"text-align: right;\">\n",
       "      <th></th>\n",
       "      <th>ds</th>\n",
       "      <th>y</th>\n",
       "    </tr>\n",
       "  </thead>\n",
       "  <tbody>\n",
       "    <tr>\n",
       "      <th>874</th>\n",
       "      <td>2017-05-24</td>\n",
       "      <td>375</td>\n",
       "    </tr>\n",
       "    <tr>\n",
       "      <th>875</th>\n",
       "      <td>2017-05-25</td>\n",
       "      <td>298</td>\n",
       "    </tr>\n",
       "    <tr>\n",
       "      <th>876</th>\n",
       "      <td>2017-05-26</td>\n",
       "      <td>269</td>\n",
       "    </tr>\n",
       "  </tbody>\n",
       "</table>\n",
       "</div>"
      ],
      "text/plain": [
       "            ds    y\n",
       "874 2017-05-24  375\n",
       "875 2017-05-25  298\n",
       "876 2017-05-26  269"
      ]
     },
     "execution_count": 20,
     "metadata": {},
     "output_type": "execute_result"
    }
   ],
   "source": [
    "prediction_size = 30\n",
    "train_df = df[:-prediction_size]\n",
    "train_df.tail(n=3)"
   ]
  },
  {
   "cell_type": "markdown",
   "id": "898cf381",
   "metadata": {},
   "source": [
    "Now we need to create a new `Prophet` object. Here we can pass the parameters of the model into the constructor. But in this article we will use the defaults. Then we train our model by invoking its `fit` method on our training dataset:"
   ]
  },
  {
   "cell_type": "code",
   "execution_count": 21,
   "id": "07e9818b",
   "metadata": {},
   "outputs": [
    {
     "name": "stderr",
     "output_type": "stream",
     "text": [
      "19:37:27 - cmdstanpy - INFO - Chain [1] start processing\n"
     ]
    },
    {
     "name": "stderr",
     "output_type": "stream",
     "text": [
      "19:37:27 - cmdstanpy - INFO - Chain [1] done processing\n"
     ]
    }
   ],
   "source": [
    "m = Prophet()\n",
    "m.fit(train_df);"
   ]
  },
  {
   "cell_type": "markdown",
   "id": "7cdfc0f4",
   "metadata": {},
   "source": [
    "Using the helper method `Prophet.make_future_dataframe`, we create a dataframe which will contain all dates from the history and also extend into the future for those 30 days that we left out before."
   ]
  },
  {
   "cell_type": "code",
   "execution_count": 22,
   "id": "f295247c",
   "metadata": {},
   "outputs": [
    {
     "data": {
      "text/html": [
       "<div>\n",
       "<style scoped>\n",
       "    .dataframe tbody tr th:only-of-type {\n",
       "        vertical-align: middle;\n",
       "    }\n",
       "\n",
       "    .dataframe tbody tr th {\n",
       "        vertical-align: top;\n",
       "    }\n",
       "\n",
       "    .dataframe thead th {\n",
       "        text-align: right;\n",
       "    }\n",
       "</style>\n",
       "<table border=\"1\" class=\"dataframe\">\n",
       "  <thead>\n",
       "    <tr style=\"text-align: right;\">\n",
       "      <th></th>\n",
       "      <th>ds</th>\n",
       "    </tr>\n",
       "  </thead>\n",
       "  <tbody>\n",
       "    <tr>\n",
       "      <th>904</th>\n",
       "      <td>2017-06-23</td>\n",
       "    </tr>\n",
       "    <tr>\n",
       "      <th>905</th>\n",
       "      <td>2017-06-24</td>\n",
       "    </tr>\n",
       "    <tr>\n",
       "      <th>906</th>\n",
       "      <td>2017-06-25</td>\n",
       "    </tr>\n",
       "  </tbody>\n",
       "</table>\n",
       "</div>"
      ],
      "text/plain": [
       "            ds\n",
       "904 2017-06-23\n",
       "905 2017-06-24\n",
       "906 2017-06-25"
      ]
     },
     "execution_count": 22,
     "metadata": {},
     "output_type": "execute_result"
    }
   ],
   "source": [
    "future = m.make_future_dataframe(periods=prediction_size)\n",
    "future.tail(n=3)"
   ]
  },
  {
   "cell_type": "markdown",
   "id": "e0a531b2",
   "metadata": {},
   "source": [
    "We predict values with `Prophet` by passing in the dates for which we want to create a forecast. If we also supply the historical dates (as in our case), then in addition to the prediction we will get an in-sample fit for the history. Let's call the model's `predict` method with our `future` dataframe as an input:"
   ]
  },
  {
   "cell_type": "code",
   "execution_count": 23,
   "id": "d5bca1b7",
   "metadata": {},
   "outputs": [
    {
     "data": {
      "text/html": [
       "<div>\n",
       "<style scoped>\n",
       "    .dataframe tbody tr th:only-of-type {\n",
       "        vertical-align: middle;\n",
       "    }\n",
       "\n",
       "    .dataframe tbody tr th {\n",
       "        vertical-align: top;\n",
       "    }\n",
       "\n",
       "    .dataframe thead th {\n",
       "        text-align: right;\n",
       "    }\n",
       "</style>\n",
       "<table border=\"1\" class=\"dataframe\">\n",
       "  <thead>\n",
       "    <tr style=\"text-align: right;\">\n",
       "      <th></th>\n",
       "      <th>ds</th>\n",
       "      <th>trend</th>\n",
       "      <th>yhat_lower</th>\n",
       "      <th>yhat_upper</th>\n",
       "      <th>trend_lower</th>\n",
       "      <th>trend_upper</th>\n",
       "      <th>additive_terms</th>\n",
       "      <th>additive_terms_lower</th>\n",
       "      <th>additive_terms_upper</th>\n",
       "      <th>weekly</th>\n",
       "      <th>weekly_lower</th>\n",
       "      <th>weekly_upper</th>\n",
       "      <th>yearly</th>\n",
       "      <th>yearly_lower</th>\n",
       "      <th>yearly_upper</th>\n",
       "      <th>multiplicative_terms</th>\n",
       "      <th>multiplicative_terms_lower</th>\n",
       "      <th>multiplicative_terms_upper</th>\n",
       "      <th>yhat</th>\n",
       "    </tr>\n",
       "  </thead>\n",
       "  <tbody>\n",
       "    <tr>\n",
       "      <th>904</th>\n",
       "      <td>2017-06-23</td>\n",
       "      <td>278.890961</td>\n",
       "      <td>256.481605</td>\n",
       "      <td>304.601914</td>\n",
       "      <td>278.499283</td>\n",
       "      <td>279.315718</td>\n",
       "      <td>2.136612</td>\n",
       "      <td>2.136612</td>\n",
       "      <td>2.136612</td>\n",
       "      <td>3.470236</td>\n",
       "      <td>3.470236</td>\n",
       "      <td>3.470236</td>\n",
       "      <td>-1.333624</td>\n",
       "      <td>-1.333624</td>\n",
       "      <td>-1.333624</td>\n",
       "      <td>0.0</td>\n",
       "      <td>0.0</td>\n",
       "      <td>0.0</td>\n",
       "      <td>281.027573</td>\n",
       "    </tr>\n",
       "    <tr>\n",
       "      <th>905</th>\n",
       "      <td>2017-06-24</td>\n",
       "      <td>279.618618</td>\n",
       "      <td>220.242089</td>\n",
       "      <td>268.190330</td>\n",
       "      <td>279.196307</td>\n",
       "      <td>280.077472</td>\n",
       "      <td>-35.171070</td>\n",
       "      <td>-35.171070</td>\n",
       "      <td>-35.171070</td>\n",
       "      <td>-34.023126</td>\n",
       "      <td>-34.023126</td>\n",
       "      <td>-34.023126</td>\n",
       "      <td>-1.147944</td>\n",
       "      <td>-1.147944</td>\n",
       "      <td>-1.147944</td>\n",
       "      <td>0.0</td>\n",
       "      <td>0.0</td>\n",
       "      <td>0.0</td>\n",
       "      <td>244.447548</td>\n",
       "    </tr>\n",
       "    <tr>\n",
       "      <th>906</th>\n",
       "      <td>2017-06-25</td>\n",
       "      <td>280.346275</td>\n",
       "      <td>224.064602</td>\n",
       "      <td>274.387586</td>\n",
       "      <td>279.896021</td>\n",
       "      <td>280.836952</td>\n",
       "      <td>-31.541794</td>\n",
       "      <td>-31.541794</td>\n",
       "      <td>-31.541794</td>\n",
       "      <td>-30.579139</td>\n",
       "      <td>-30.579139</td>\n",
       "      <td>-30.579139</td>\n",
       "      <td>-0.962655</td>\n",
       "      <td>-0.962655</td>\n",
       "      <td>-0.962655</td>\n",
       "      <td>0.0</td>\n",
       "      <td>0.0</td>\n",
       "      <td>0.0</td>\n",
       "      <td>248.804482</td>\n",
       "    </tr>\n",
       "  </tbody>\n",
       "</table>\n",
       "</div>"
      ],
      "text/plain": [
       "            ds       trend  yhat_lower  yhat_upper  trend_lower  trend_upper  \\\n",
       "904 2017-06-23  278.890961  256.481605  304.601914   278.499283   279.315718   \n",
       "905 2017-06-24  279.618618  220.242089  268.190330   279.196307   280.077472   \n",
       "906 2017-06-25  280.346275  224.064602  274.387586   279.896021   280.836952   \n",
       "\n",
       "     additive_terms  additive_terms_lower  additive_terms_upper     weekly  \\\n",
       "904        2.136612              2.136612              2.136612   3.470236   \n",
       "905      -35.171070            -35.171070            -35.171070 -34.023126   \n",
       "906      -31.541794            -31.541794            -31.541794 -30.579139   \n",
       "\n",
       "     weekly_lower  weekly_upper    yearly  yearly_lower  yearly_upper  \\\n",
       "904      3.470236      3.470236 -1.333624     -1.333624     -1.333624   \n",
       "905    -34.023126    -34.023126 -1.147944     -1.147944     -1.147944   \n",
       "906    -30.579139    -30.579139 -0.962655     -0.962655     -0.962655   \n",
       "\n",
       "     multiplicative_terms  multiplicative_terms_lower  \\\n",
       "904                   0.0                         0.0   \n",
       "905                   0.0                         0.0   \n",
       "906                   0.0                         0.0   \n",
       "\n",
       "     multiplicative_terms_upper        yhat  \n",
       "904                         0.0  281.027573  \n",
       "905                         0.0  244.447548  \n",
       "906                         0.0  248.804482  "
      ]
     },
     "execution_count": 23,
     "metadata": {},
     "output_type": "execute_result"
    }
   ],
   "source": [
    "forecast = m.predict(future)\n",
    "forecast.tail(n=3)"
   ]
  },
  {
   "cell_type": "markdown",
   "id": "e8989f3b",
   "metadata": {},
   "source": [
    "In the resulting dataframe you can see many columns characterizing the prediction, including trend and seasonality components as well as their confidence intervals. The forecast itself is stored in the `yhat` column.\n",
    "\n",
    "The Prophet library has its own built-in tools for visualization that enable us to quickly evaluate the result.\n",
    "\n",
    "First, there is a method called `Prophet.plot` that plots all the points from the forecast:"
   ]
  },
  {
   "cell_type": "code",
   "execution_count": 24,
   "id": "62add3e2",
   "metadata": {},
   "outputs": [
    {
     "data": {
      "image/png": "[encoded data removed]",
      "text/plain": [
       "<Figure size 1000x600 with 1 Axes>"
      ]
     },
     "metadata": {
      "filenames": {
       "image/png": "/Users/kashnitskiyy/Documents/ML/mlcourse.ai/mlcourse_ai_jupyter_book/_build/jupyter_execute/book/topic09/topic9_part2_facebook_prophet_45_0.png"
      }
     },
     "output_type": "display_data"
    }
   ],
   "source": [
    "m.plot(forecast);"
   ]
  },
  {
   "cell_type": "markdown",
   "id": "802260aa",
   "metadata": {},
   "source": [
    "This chart doesn't look very informative. The only definitive conclusion that we can draw here is that the model treated many of the data points as outliers.\n",
    "\n",
    "The second function `Prophet.plot_components` might be much more useful in our case. It allows us to observe different components of the model separately: trend, yearly and weekly seasonality. In addition, if you supply information about holidays and events to your model, they will also be shown in this plot.\n",
    "\n",
    "Let's try it out:"
   ]
  },
  {
   "cell_type": "code",
   "execution_count": 25,
   "id": "48065e16",
   "metadata": {},
   "outputs": [
    {
     "data": {
      "image/png": "[encoded data removed]",
      "text/plain": [
       "<Figure size 900x900 with 3 Axes>"
      ]
     },
     "metadata": {
      "filenames": {
       "image/png": "/Users/kashnitskiyy/Documents/ML/mlcourse.ai/mlcourse_ai_jupyter_book/_build/jupyter_execute/book/topic09/topic9_part2_facebook_prophet_47_0.png"
      }
     },
     "output_type": "display_data"
    }
   ],
   "source": [
    "m.plot_components(forecast);"
   ]
  },
  {
   "cell_type": "markdown",
   "id": "4561e82c",
   "metadata": {},
   "source": [
    "As you can see from the trend graph, Prophet did a good job by fitting the accelerated growth of new posts at the end of 2016. The graph of weekly seasonality leads to the conclusion that usually there are less new posts on Saturdays and Sundays than on the other days of the week. In the yearly seasonality graph there is a prominent dip on Christmas Day.\n",
    "\n",
    "### 3.5 Forecast quality evaluation\n",
    "\n",
    "Let's evaluate the quality of the algorithm by calculating the error metrics for the last 30 days that we predicted. For this, we will need the observations $y_i$ and the corresponding predicted values $\\hat{y}_i$.\n",
    "\n",
    "Let's look into the object `forecast` that the library created for us:"
   ]
  },
  {
   "cell_type": "code",
   "execution_count": 26,
   "id": "ce62d573",
   "metadata": {},
   "outputs": [
    {
     "name": "stdout",
     "output_type": "stream",
     "text": [
      "ds, trend, yhat_lower, yhat_upper, trend_lower, trend_upper, additive_terms, additive_terms_lower, additive_terms_upper, weekly, weekly_lower, weekly_upper, yearly, yearly_lower, yearly_upper, multiplicative_terms, multiplicative_terms_lower, multiplicative_terms_upper, yhat\n"
     ]
    }
   ],
   "source": [
    "print(\", \".join(forecast.columns))"
   ]
  },
  {
   "cell_type": "markdown",
   "id": "2c5b7a57",
   "metadata": {},
   "source": [
    "We can see that this dataframe contains all the information we need except for the historical values. We need to join the `forecast` object with the actual values `y` from the original dataset `df`. For this we will define a helper function that we will reuse later:"
   ]
  },
  {
   "cell_type": "code",
   "execution_count": 27,
   "id": "ea4d8caa",
   "metadata": {},
   "outputs": [],
   "source": [
    "def make_comparison_dataframe(historical, forecast):\n",
    "    \"\"\"Join the history with the forecast.\n",
    "\n",
    "       The resulting dataset will contain columns 'yhat', 'yhat_lower', 'yhat_upper' and 'y'.\n",
    "    \"\"\"\n",
    "    return forecast.set_index(\"ds\")[[\"yhat\", \"yhat_lower\", \"yhat_upper\"]].join(\n",
    "        historical.set_index(\"ds\")\n",
    "    )"
   ]
  },
  {
   "cell_type": "markdown",
   "id": "e8e02cfb",
   "metadata": {},
   "source": [
    "Let's apply this function to our last forecast:"
   ]
  },
  {
   "cell_type": "code",
   "execution_count": 28,
   "id": "f8462375",
   "metadata": {},
   "outputs": [
    {
     "data": {
      "text/html": [
       "<div>\n",
       "<style scoped>\n",
       "    .dataframe tbody tr th:only-of-type {\n",
       "        vertical-align: middle;\n",
       "    }\n",
       "\n",
       "    .dataframe tbody tr th {\n",
       "        vertical-align: top;\n",
       "    }\n",
       "\n",
       "    .dataframe thead th {\n",
       "        text-align: right;\n",
       "    }\n",
       "</style>\n",
       "<table border=\"1\" class=\"dataframe\">\n",
       "  <thead>\n",
       "    <tr style=\"text-align: right;\">\n",
       "      <th></th>\n",
       "      <th>yhat</th>\n",
       "      <th>yhat_lower</th>\n",
       "      <th>yhat_upper</th>\n",
       "      <th>y</th>\n",
       "    </tr>\n",
       "    <tr>\n",
       "      <th>ds</th>\n",
       "      <th></th>\n",
       "      <th></th>\n",
       "      <th></th>\n",
       "      <th></th>\n",
       "    </tr>\n",
       "  </thead>\n",
       "  <tbody>\n",
       "    <tr>\n",
       "      <th>2017-06-23</th>\n",
       "      <td>281.027573</td>\n",
       "      <td>256.481605</td>\n",
       "      <td>304.601914</td>\n",
       "      <td>421</td>\n",
       "    </tr>\n",
       "    <tr>\n",
       "      <th>2017-06-24</th>\n",
       "      <td>244.447548</td>\n",
       "      <td>220.242089</td>\n",
       "      <td>268.190330</td>\n",
       "      <td>277</td>\n",
       "    </tr>\n",
       "    <tr>\n",
       "      <th>2017-06-25</th>\n",
       "      <td>248.804482</td>\n",
       "      <td>224.064602</td>\n",
       "      <td>274.387586</td>\n",
       "      <td>253</td>\n",
       "    </tr>\n",
       "  </tbody>\n",
       "</table>\n",
       "</div>"
      ],
      "text/plain": [
       "                  yhat  yhat_lower  yhat_upper    y\n",
       "ds                                                 \n",
       "2017-06-23  281.027573  256.481605  304.601914  421\n",
       "2017-06-24  244.447548  220.242089  268.190330  277\n",
       "2017-06-25  248.804482  224.064602  274.387586  253"
      ]
     },
     "execution_count": 28,
     "metadata": {},
     "output_type": "execute_result"
    }
   ],
   "source": [
    "cmp_df = make_comparison_dataframe(df, forecast)\n",
    "cmp_df.tail(n=3)"
   ]
  },
  {
   "cell_type": "markdown",
   "id": "58f25e0d",
   "metadata": {},
   "source": [
    "We are also going to define a helper function that we will use to gauge the quality of our forecasting with MAPE and MAE error measures:"
   ]
  },
  {
   "cell_type": "code",
   "execution_count": 29,
   "id": "6c5873d3",
   "metadata": {},
   "outputs": [],
   "source": [
    "def calculate_forecast_errors(df, prediction_size):\n",
    "    \"\"\"Calculate MAPE and MAE of the forecast.\n",
    "\n",
    "       Args:\n",
    "           df: joined dataset with 'y' and 'yhat' columns.\n",
    "           prediction_size: number of days at the end to predict.\n",
    "    \"\"\"\n",
    "\n",
    "    # Make a copy\n",
    "    df = df.copy()\n",
    "\n",
    "    # Now we calculate the values of e_i and p_i according to the formulas given in the article above.\n",
    "    df[\"e\"] = df[\"y\"] - df[\"yhat\"]\n",
    "    df[\"p\"] = 100 * df[\"e\"] / df[\"y\"]\n",
    "\n",
    "    # Recall that we held out the values of the last `prediction_size` days\n",
    "    # in order to predict them and measure the quality of the model.\n",
    "\n",
    "    # Now cut out the part of the data which we made our prediction for.\n",
    "    predicted_part = df[-prediction_size:]\n",
    "\n",
    "    # Define the function that averages absolute error values over the predicted part.\n",
    "    error_mean = lambda error_name: np.mean(np.abs(predicted_part[error_name]))\n",
    "\n",
    "    # Now we can calculate MAPE and MAE and return the resulting dictionary of errors.\n",
    "    return {\"MAPE\": error_mean(\"p\"), \"MAE\": error_mean(\"e\")}"
   ]
  },
  {
   "cell_type": "markdown",
   "id": "9724661d",
   "metadata": {},
   "source": [
    "Let's use our function:"
   ]
  },
  {
   "cell_type": "code",
   "execution_count": 30,
   "id": "df1349a7",
   "metadata": {},
   "outputs": [
    {
     "name": "stdout",
     "output_type": "stream",
     "text": [
      "MAPE 22.491562351535272\n",
      "MAE 69.242268796982\n"
     ]
    }
   ],
   "source": [
    "for err_name, err_value in calculate_forecast_errors(cmp_df, prediction_size).items():\n",
    "    print(err_name, err_value)"
   ]
  },
  {
   "cell_type": "markdown",
   "id": "8e5d0651",
   "metadata": {},
   "source": [
    "As a result, the relative error of our forecast (MAPE) is about 22.6%, and on average our model is wrong by ~70 posts (MAE).\n",
    "\n",
    "### 3.6 Visualization\n",
    "\n",
    "Let's create our own visualization of the model built by Prophet. It will comprise the actual values, forecast and confidence intervals.\n",
    "\n",
    "First, we will plot the data for a shorter period of time to make the data points easier to distinguish. Second, we will show the model performance only for the period that we predicted, that is the last 30 days. It seems that these two measures should give us a more legible plot.\n",
    "\n",
    "Third, we will use `Plotly` to make our chart interactive, which is great for exploring.\n",
    "\n",
    "We will define a custom helper function `show_forecast` and call it (for more on how it works please refer to the comments in the code and the [documentation](https://plotly.com/python/)):"
   ]
  },
  {
   "cell_type": "code",
   "execution_count": 31,
   "id": "987c01d3",
   "metadata": {},
   "outputs": [
    {
     "data": {
      "text/html": [
       "\n",
       "<iframe\n",
       "    width=\"800\"\n",
       "    height=\"500\"\n",
       "    src=\"../../_static/plotly_htmls/New_posts_on_Medium.html\"\n",
       "    frameborder=\"0\"\n",
       "    allowfullscreen\n",
       "\n",
       "></iframe>\n"
      ],
      "text/plain": [
       "<IPython.lib.display.IFrame at 0x13a259480>"
      ]
     },
     "metadata": {},
     "output_type": "display_data"
    }
   ],
   "source": [
    "def show_forecast(cmp_df, num_predictions, num_values, title, width=800, height=500):\n",
    "    \"\"\"Visualize the forecast.\"\"\"\n",
    "\n",
    "    def create_go(name, column, num, **kwargs):\n",
    "        points = cmp_df.tail(num)\n",
    "        args = dict(name=name, x=points.index, y=points[column], mode=\"lines\")\n",
    "        args.update(kwargs)\n",
    "        return go.Scatter(**args)\n",
    "\n",
    "    lower_bound = create_go(\n",
    "        \"Lower Bound\",\n",
    "        \"yhat_lower\",\n",
    "        num_predictions,\n",
    "        line=dict(width=0),\n",
    "        marker=dict(color=\"gray\"),\n",
    "    )\n",
    "    upper_bound = create_go(\n",
    "        \"Upper Bound\",\n",
    "        \"yhat_upper\",\n",
    "        num_predictions,\n",
    "        line=dict(width=0),\n",
    "        marker=dict(color=\"gray\"),\n",
    "        fillcolor=\"rgba(68, 68, 68, 0.3)\",\n",
    "        fill=\"tonexty\",\n",
    "    )\n",
    "    forecast = create_go(\n",
    "        \"Forecast\", \"yhat\", num_predictions, line=dict(color=\"rgb(31, 119, 180)\")\n",
    "    )\n",
    "    actual = create_go(\"Actual\", \"y\", num_values, marker=dict(color=\"red\"))\n",
    "\n",
    "    # In this case the order of the series is important because of the filling\n",
    "    data = [lower_bound, upper_bound, forecast, actual]\n",
    "\n",
    "    layout = go.Layout(yaxis=dict(title=\"Posts\"), title=title, showlegend=False)\n",
    "    fig = go.Figure(data=data, layout=layout)\n",
    "\n",
    "    # in a Jupyter Notebook, the following should work\n",
    "    #iplot(fig, show_link=False)\n",
    "\n",
    "    # in a Jupyter Book, we save a plot offline and then render it with IFrame\n",
    "    plot_path = f\"../../_static/plotly_htmls/{title}.html\".replace(\" \", \"_\")\n",
    "    plot(fig, filename=plot_path, show_link=False, auto_open=False);\n",
    "    display(IFrame(plot_path, width=width, height=height))\n",
    "\n",
    "\n",
    "show_forecast(cmp_df, prediction_size, 100, \"New posts on Medium\")"
   ]
  },
  {
   "cell_type": "markdown",
   "id": "d5868e66",
   "metadata": {},
   "source": [
    "At first glance, the prediction of the mean values by our model seems to be sensible. The high value of MAPE that we got above may be explained by the fact that the model failed to catch on to increasing peak-to-peak amplitude of weakly seasonality.\n",
    "\n",
    "Also, we can conclude from the graph above that many of the actual values lie outside the confidence interval. Prophet may not be suitable for time series with unstable variance, at least when the default settings are used. We will try to fix this by applying a transform to our data.\n",
    "\n",
    "## 4. Box-Cox Transformation\n",
    "\n",
    "So far we have used Prophet with the default settings and the original data. We will leave the parameters of the model alone. But despite this we still have some room for improvement. In this section, we will apply the [Box–Cox transformation](http://onlinestatbook.com/2/transformations/box-cox.html) to our original series. Let's see where it will lead us.\n",
    "\n",
    "A few words about this transformation. This is a monotonic data transformation that can be used to stabilize variance. We will use the one-parameter Box–Cox transformation, which is defined by the following expression:\n",
    "\n",
    "$$\n",
    "\\begin{equation}\n",
    "  boxcox^{(\\lambda)}(y_{i}) = \\begin{cases}\n",
    "    \\frac{\\displaystyle y_{i}^{\\lambda} - 1}{\\displaystyle \\lambda} &, \\text{if $\\lambda \\neq 0$}.\\\\\n",
    "    ln(y_{i}) &, \\text{if $\\lambda = 0$}.\n",
    "  \\end{cases}\n",
    "\\end{equation}\n",
    "$$\n",
    "\n",
    "We will need to implement the inverse of this function in order to be able to restore the original data scale. It is easy to see that the inverse is defined as:\n",
    "\n",
    "$$\n",
    "\\begin{equation}\n",
    "  invboxcox^{(\\lambda)}(y_{i}) = \\begin{cases}\n",
    "    e^{\\left (\\frac{\\displaystyle ln(\\lambda y_{i} + 1)}{\\displaystyle \\lambda} \\right )} &, \\text{if $\\lambda \\neq 0$}.\\\\\n",
    "    e^{y_{i}} &, \\text{if $\\lambda = 0$}.\n",
    "  \\end{cases}\n",
    "\\end{equation}\n",
    "$$\n",
    "\n",
    "The corresponding function in Python is implemented as follows:"
   ]
  },
  {
   "cell_type": "code",
   "execution_count": 32,
   "id": "133691c2",
   "metadata": {},
   "outputs": [],
   "source": [
    "def inverse_boxcox(y, lambda_):\n",
    "    return np.exp(y) if lambda_ == 0 else np.exp(np.log(lambda_ * y + 1) / lambda_)"
   ]
  },
  {
   "cell_type": "markdown",
   "id": "0a900937",
   "metadata": {},
   "source": [
    "First, we prepare our dataset by setting its index:"
   ]
  },
  {
   "cell_type": "code",
   "execution_count": 33,
   "id": "1302ee31",
   "metadata": {},
   "outputs": [],
   "source": [
    "train_df2 = train_df.copy().set_index(\"ds\")"
   ]
  },
  {
   "cell_type": "markdown",
   "id": "335c03b1",
   "metadata": {},
   "source": [
    "Then, we apply the function `stats.boxcox` from `Scipy`, which applies the Box–Cox transformation. In our case it will return two values. The first one is the transformed series and the second one is the found value of $\\lambda$ that is optimal in terms of the maximum log-likelihood:"
   ]
  },
  {
   "cell_type": "code",
   "execution_count": 34,
   "id": "99205d1a",
   "metadata": {},
   "outputs": [],
   "source": [
    "train_df2[\"y\"], lambda_prophet = stats.boxcox(train_df2[\"y\"])\n",
    "train_df2.reset_index(inplace=True)"
   ]
  },
  {
   "cell_type": "markdown",
   "id": "8431d659",
   "metadata": {},
   "source": [
    "We create a new `Prophet` model and repeat the fit-predict cycle that we have already done above:"
   ]
  },
  {
   "cell_type": "code",
   "execution_count": 35,
   "id": "20e74fd1",
   "metadata": {},
   "outputs": [
    {
     "name": "stderr",
     "output_type": "stream",
     "text": [
      "19:37:29 - cmdstanpy - INFO - Chain [1] start processing\n"
     ]
    },
    {
     "name": "stderr",
     "output_type": "stream",
     "text": [
      "19:37:29 - cmdstanpy - INFO - Chain [1] done processing\n"
     ]
    }
   ],
   "source": [
    "m2 = Prophet()\n",
    "m2.fit(train_df2)\n",
    "future2 = m2.make_future_dataframe(periods=prediction_size)\n",
    "forecast2 = m2.predict(future2)"
   ]
  },
  {
   "cell_type": "markdown",
   "id": "c0fa433a",
   "metadata": {},
   "source": [
    "At this point, we need to revert the Box–Cox transformation with our inverse function and the known value of $\\lambda$:"
   ]
  },
  {
   "cell_type": "code",
   "execution_count": 36,
   "id": "8f00fa8a",
   "metadata": {},
   "outputs": [],
   "source": [
    "for column in [\"yhat\", \"yhat_lower\", \"yhat_upper\"]:\n",
    "    forecast2[column] = inverse_boxcox(forecast2[column], lambda_prophet)"
   ]
  },
  {
   "cell_type": "markdown",
   "id": "c0d3782c",
   "metadata": {},
   "source": [
    "Here we will reuse our tools for making the comparison dataframe and calculating the errors:"
   ]
  },
  {
   "cell_type": "code",
   "execution_count": 37,
   "id": "635ce230",
   "metadata": {},
   "outputs": [
    {
     "name": "stdout",
     "output_type": "stream",
     "text": [
      "MAPE 11.75113989114766\n",
      "MAE 39.760303261646214\n"
     ]
    }
   ],
   "source": [
    "cmp_df2 = make_comparison_dataframe(df, forecast2)\n",
    "for err_name, err_value in calculate_forecast_errors(cmp_df2, prediction_size).items():\n",
    "    print(err_name, err_value)"
   ]
  },
  {
   "cell_type": "markdown",
   "id": "9e90a793",
   "metadata": {},
   "source": [
    "So, we can definitely state an increase in the quality of the model.\n",
    "\n",
    "Finally, let's plot our previous performance with the latest results side-by-side. Note that we use `prediction_size` for the third parameter in order to zoom in on the interval being predicted:"
   ]
  },
  {
   "cell_type": "code",
   "execution_count": 38,
   "id": "e54c81c5",
   "metadata": {},
   "outputs": [
    {
     "data": {
      "text/html": [
       "\n",
       "<iframe\n",
       "    width=\"800\"\n",
       "    height=\"500\"\n",
       "    src=\"../../_static/plotly_htmls/No_transformations.html\"\n",
       "    frameborder=\"0\"\n",
       "    allowfullscreen\n",
       "\n",
       "></iframe>\n"
      ],
      "text/plain": [
       "<IPython.lib.display.IFrame at 0x13a267f10>"
      ]
     },
     "metadata": {},
     "output_type": "display_data"
    },
    {
     "data": {
      "text/html": [
       "\n",
       "<iframe\n",
       "    width=\"800\"\n",
       "    height=\"500\"\n",
       "    src=\"../../_static/plotly_htmls/Box–Cox_transformation.html\"\n",
       "    frameborder=\"0\"\n",
       "    allowfullscreen\n",
       "\n",
       "></iframe>\n"
      ],
      "text/plain": [
       "<IPython.lib.display.IFrame at 0x13a25b5e0>"
      ]
     },
     "metadata": {},
     "output_type": "display_data"
    }
   ],
   "source": [
    "show_forecast(cmp_df, prediction_size, 100, \"No transformations\")\n",
    "show_forecast(cmp_df2, prediction_size, 100, \"Box–Cox transformation\")"
   ]
  },
  {
   "cell_type": "markdown",
   "id": "c5824712",
   "metadata": {},
   "source": [
    "We see that the forecast of weekly changes in the second graph is much closer to the real values now.\n",
    "\n",
    "## 5. Summary\n",
    "\n",
    "We have taken a look at *Prophet*, an open-source forecasting library that is specifically targeted at business time series. We have also done some hands-on practice in time series prediction.\n",
    "\n",
    "As we have seen, the Prophet library does not make wonders, and its predictions out-of-box are not [ideal](https://en.wikipedia.org/wiki/No_free_lunch_in_search_and_optimization). It is still up to the data scientist to explore the forecast results, tune model parameters and transform data when necessary.\n",
    "\n",
    "However, this library is user-friendly and easily customizable. The sole ability to take into account abnormal days that are known to the analyst beforehand might make a difference in some cases.\n",
    "\n",
    "All in all, the Prophet library is worth being a part of your analytical toolbox.\n",
    "\n",
    "## 6. References\n",
    "\n",
    "- Official [Prophet repository](https://github.com/facebook/prophet) on GitHub.\n",
    "- Official [Prophet documentation](https://facebook.github.io/prophet/docs/quick_start.html#python-api).\n",
    "- Sean J. Taylor, Benjamin Letham [\"Forecasting at scale\"](https://facebook.github.io/prophet/static/prophet_paper_20170113.pdf) — scientific paper explaining the algorithm which lays the foundation of `Prophet`.\n",
    "- [Forecasting Website Traffic Using Facebook’s Prophet Library](http://pbpython.com/prophet-overview.html) — `Prophet` overview with an example of website traffic forecasting.\n",
    "- Rob J. Hyndman, George Athanasopoulos [\"Forecasting: principles and practice\"](https://www.otexts.org/fpp) – a very good online book about time series forecasting."
   ]
  }
 ],
 "metadata": {
  "jupytext": {
   "formats": "md:myst",
   "text_representation": {
    "extension": ".md",
    "format_name": "myst"
   }
  },
  "kernelspec": {
   "display_name": "Python 3",
   "language": "python",
   "name": "python3"
  },
  "language_info": {
   "codemirror_mode": {
    "name": "ipython",
    "version": 3
   },
   "file_extension": ".py",
   "mimetype": "text/x-python",
   "name": "python",
   "nbconvert_exporter": "python",
   "pygments_lexer": "ipython3",
   "version": "3.10.9"
  },
  "source_map": [
   11,
   165,
   178,
   186,
   201,
   209,
   214,
   216,
   221,
   223,
   228,
   230,
   235,
   243,
   245,
   250,
   253,
   258,
   260,
   267,
   270,
   281,
   288,
   293,
   308,
   313,
   315,
   324,
   326,
   331,
   333,
   344,
   347,
   360,
   366,
   371,
   377,
   384,
   388,
   393,
   396,
   401,
   404,
   409,
   412,
   421,
   423,
   432,
   434,
   445,
   447,
   452,
   461,
   466,
   469,
   474,
   501,
   506,
   509,
   524,
   571,
   606,
   609,
   614,
   616,
   621,
   624,
   629,
   634,
   639,
   642,
   647,
   651,
   658,
   661
  ]
 },
 "nbformat": 4,
 "nbformat_minor": 5
}