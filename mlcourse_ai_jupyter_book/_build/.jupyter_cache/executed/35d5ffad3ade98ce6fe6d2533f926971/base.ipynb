{
 "cells": [
  {
   "cell_type": "code",
   "execution_count": 1,
   "id": "acd22d9a",
   "metadata": {},
   "outputs": [
    {
     "name": "stdout",
     "output_type": "stream",
     "text": [
      "[]\n"
     ]
    }
   ],
   "source": [
    "# some necessary imports\n",
    "from pathlib import Path\n",
    "import pandas as pd\n",
    "DATA_PATH = Path(\"/_static/data/\")\n",
    "\n",
    "print(list(DATA_PATH.glob('*')))"
   ]
  },
  {
   "cell_type": "code",
   "execution_count": 2,
   "id": "6b5b8735",
   "metadata": {},
   "outputs": [],
   "source": [
    "#train_df = pd.read_csv(DATA_PATH / \"athlete_events.csv.zip\")\n",
    "#train_df.head()-->"
   ]
  }
 ],
 "metadata": {
  "jupytext": {
   "formats": "md:myst",
   "text_representation": {
    "extension": ".md",
    "format_name": "myst"
   }
  },
  "kernelspec": {
   "display_name": "Python 3",
   "language": "python",
   "name": "python3"
  },
  "language_info": {
   "codemirror_mode": {
    "name": "ipython",
    "version": 3
   },
   "file_extension": ".py",
   "mimetype": "text/x-python",
   "name": "python",
   "nbconvert_exporter": "python",
   "pygments_lexer": "ipython3",
   "version": "3.8.8"
  },
  "source_map": [
   11,
   24,
   33
  ]
 },
 "nbformat": 4,
 "nbformat_minor": 5
}