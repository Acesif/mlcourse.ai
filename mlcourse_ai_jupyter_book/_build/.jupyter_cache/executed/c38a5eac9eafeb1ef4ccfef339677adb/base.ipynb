{
 "cells": [
  {
   "cell_type": "code",
   "execution_count": 1,
   "id": "c25f91ef",
   "metadata": {},
   "outputs": [],
   "source": [
    "import os\n",
    "\n",
    "def download_file_from_gdrive(file_url, filename, out_path='../../_static'):\n",
    "    os.system(f'gdown {file_url} -O {out_path}/{filename}')\n",
    "    print(f'gdown {file_url} -O {out_path}/{filename}')\n",
    "    "
   ]
  },
  {
   "cell_type": "code",
   "execution_count": 2,
   "id": "e8a6679d",
   "metadata": {},
   "outputs": [
    {
     "name": "stdout",
     "output_type": "stream",
     "text": [
      "gdown https://drive.google.com/file/d/1KbBdJaEY8RF4GXzoihWgH0RdqoVBZ_oi/view?usp=sharing -O ../../_static/data//train-balanced-sarcasm.csv.zip\n"
     ]
    }
   ],
   "source": [
    "# some necessary imports\n",
    "from pathlib import Path\n",
    "import pandas as pd\n",
    "\n",
    "FILE_URL = 'https://drive.google.com/file/d/1KbBdJaEY8RF4GXzoihWgH0RdqoVBZ_oi/view?usp=sharing'\n",
    "FILE_NAME = 'train-balanced-sarcasm.csv.zip'\n",
    "DATA_PATH = '../../_static/data/'\n",
    "\n",
    "download_file_from_gdrive(file_url=FILE_URL, filename= FILE_NAME, out_path=DATA_PATH)"
   ]
  },
  {
   "cell_type": "code",
   "execution_count": 3,
   "id": "e0eb8b6c",
   "metadata": {},
   "outputs": [],
   "source": [
    "#train_df = pd.read_csv(DATA_PATH + FILE_NAME)\n",
    "#train_df.head()"
   ]
  }
 ],
 "metadata": {
  "jupytext": {
   "formats": "md:myst",
   "text_representation": {
    "extension": ".md",
    "format_name": "myst"
   }
  },
  "kernelspec": {
   "display_name": "Python 3",
   "language": "python",
   "name": "python3"
  },
  "language_info": {
   "codemirror_mode": {
    "name": "ipython",
    "version": 3
   },
   "file_extension": ".py",
   "mimetype": "text/x-python",
   "name": "python",
   "nbconvert_exporter": "python",
   "pygments_lexer": "ipython3",
   "version": "3.8.8"
  },
  "source_map": [
   11,
   22,
   32,
   44
  ]
 },
 "nbformat": 4,
 "nbformat_minor": 5
}