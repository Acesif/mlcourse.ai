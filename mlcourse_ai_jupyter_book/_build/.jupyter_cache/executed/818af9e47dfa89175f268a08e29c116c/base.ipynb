{
 "cells": [
  {
   "cell_type": "code",
   "execution_count": 1,
   "id": "41a50e4e",
   "metadata": {},
   "outputs": [],
   "source": [
    "import os\n",
    "from zipfile import ZipFile\n",
    "from pathlib import Path\n",
    "import requests\n",
    "\n",
    "import numpy as np\n",
    "import pandas as pd\n",
    "import seaborn as sns\n",
    "from tqdm import tqdm_notebook\n",
    "\n",
    "%matplotlib inline\n",
    "from matplotlib import pyplot as plt\n",
    "\n",
    "plt.style.use([\"seaborn-darkgrid\"])\n",
    "plt.rcParams[\"figure.figsize\"] = (12, 9)\n",
    "plt.rcParams[\"font.family\"] = \"DejaVu Sans\"\n",
    "\n",
    "from sklearn import metrics\n",
    "from sklearn.cluster import AgglomerativeClustering, KMeans, SpectralClustering\n",
    "from sklearn.decomposition import PCA\n",
    "from sklearn.model_selection import GridSearchCV\n",
    "from sklearn.preprocessing import StandardScaler\n",
    "from sklearn.svm import LinearSVC\n",
    "\n",
    "RANDOM_STATE = 17"
   ]
  },
  {
   "cell_type": "code",
   "execution_count": 2,
   "id": "24f5d862",
   "metadata": {},
   "outputs": [],
   "source": [
    "def load_har_dataset(url, extract_path: Path, filename: str, overwrite=False):\n",
    "    # check if existed already\n",
    "    filepath = extract_path / filename\n",
    "    if filepath.exists() and not overwrite:\n",
    "        print(\"The dataset is already in place.\")\n",
    "        return\n",
    "\n",
    "    print(\"Downloading the dataset from:  \", url)\n",
    "    response = requests.get(url)\n",
    "\n",
    "    with open(filepath, 'wb') as f:\n",
    "        f.write(response.content)\n",
    "\n",
    "    with ZipFile(filepath, 'r') as zipObj:\n",
    "        # Extract all the contents of zip file in current directory\n",
    "        zipObj.extractall(extract_path)"
   ]
  },
  {
   "cell_type": "code",
   "execution_count": 3,
   "id": "d025a220",
   "metadata": {},
   "outputs": [
    {
     "name": "stdout",
     "output_type": "stream",
     "text": [
      "The dataset is already in place.\n"
     ]
    }
   ],
   "source": [
    "FILE_URL = \"https://archive.ics.uci.edu/ml/machine-learning-databases/00240/UCI%20HAR%20Dataset.zip\"\n",
    "FILE_NAME = \"UCI HAR Dataset.zip\"\n",
    "DATA_PATH = Path(\"../../_static/data/\")\n",
    "\n",
    "load_har_dataset(url=FILE_URL, extract_path=DATA_PATH, filename=FILE_NAME)\n",
    "\n",
    "PATH_TO_SAMSUNG_DATA = DATA_PATH / FILE_NAME.strip('.zip')"
   ]
  },
  {
   "cell_type": "code",
   "execution_count": 4,
   "id": "0cd367d6",
   "metadata": {},
   "outputs": [],
   "source": [
    "X_train = np.loadtxt(PATH_TO_SAMSUNG_DATA / \"train\" / \"X_train.txt\")\n",
    "y_train = np.loadtxt(PATH_TO_SAMSUNG_DATA / \"train\" / \"y_train.txt\").astype(int)\n",
    "\n",
    "X_test = np.loadtxt(PATH_TO_SAMSUNG_DATA / \"test\" / \"X_test.txt\")\n",
    "y_test = np.loadtxt(PATH_TO_SAMSUNG_DATA / \"test\" / \"y_test.txt\").astype(int)"
   ]
  },
  {
   "cell_type": "code",
   "execution_count": 5,
   "id": "07af5772",
   "metadata": {},
   "outputs": [],
   "source": [
    "# Checking dimensions\n",
    "assert X_train.shape == (7352, 561) and y_train.shape == (7352,)\n",
    "assert X_test.shape == (2947, 561) and y_test.shape == (2947,)"
   ]
  },
  {
   "cell_type": "code",
   "execution_count": 6,
   "id": "0c20f569",
   "metadata": {},
   "outputs": [],
   "source": [
    "# You code here (read-only in a JupyterBook, pls download as .ipynb and run jupyter-notebook to edit)"
   ]
  },
  {
   "cell_type": "code",
   "execution_count": 7,
   "id": "b4265ce1",
   "metadata": {},
   "outputs": [],
   "source": [
    "# np.unique(y)"
   ]
  },
  {
   "cell_type": "code",
   "execution_count": 8,
   "id": "dbdfa0bd",
   "metadata": {},
   "outputs": [],
   "source": [
    "# n_classes = np.unique(y).size"
   ]
  },
  {
   "cell_type": "code",
   "execution_count": 9,
   "id": "e3d06de2",
   "metadata": {},
   "outputs": [],
   "source": [
    "# You code here (read-only in a JupyterBook, pls download as .ipynb and run jupyter-notebook to edit)"
   ]
  },
  {
   "cell_type": "code",
   "execution_count": 10,
   "id": "58983fad",
   "metadata": {},
   "outputs": [],
   "source": [
    "# You code here (read-only in a JupyterBook, pls download as .ipynb and run jupyter-notebook to edit)\n",
    "# pca =\n",
    "# X_pca ="
   ]
  },
  {
   "cell_type": "code",
   "execution_count": 11,
   "id": "d837d3fa",
   "metadata": {},
   "outputs": [],
   "source": [
    "# You code here (read-only in a JupyterBook, pls download as .ipynb and run jupyter-notebook to edit)"
   ]
  },
  {
   "cell_type": "code",
   "execution_count": 12,
   "id": "bca557d1",
   "metadata": {},
   "outputs": [],
   "source": [
    "# You code here (read-only in a JupyterBook, pls download as .ipynb and run jupyter-notebook to edit)"
   ]
  },
  {
   "cell_type": "code",
   "execution_count": 13,
   "id": "7e1449d8",
   "metadata": {},
   "outputs": [],
   "source": [
    "# You code here (read-only in a JupyterBook, pls download as .ipynb and run jupyter-notebook to edit)\n",
    "# plt.scatter(, , c=y, s=20, cmap='viridis');"
   ]
  },
  {
   "cell_type": "code",
   "execution_count": 14,
   "id": "cabffeea",
   "metadata": {},
   "outputs": [],
   "source": [
    "# You code here (read-only in a JupyterBook, pls download as .ipynb and run jupyter-notebook to edit)"
   ]
  },
  {
   "cell_type": "code",
   "execution_count": 15,
   "id": "e213229c",
   "metadata": {},
   "outputs": [],
   "source": [
    "# You code here (read-only in a JupyterBook, pls download as .ipynb and run jupyter-notebook to edit)\n",
    "# plt.scatter(, , c=cluster_labels, s=20, cmap='viridis');"
   ]
  },
  {
   "cell_type": "code",
   "execution_count": 16,
   "id": "743ee9e2",
   "metadata": {},
   "outputs": [],
   "source": [
    "# tab = pd.crosstab(y, cluster_labels, margins=True)\n",
    "# tab.index = ['walking', 'going up the stairs',\n",
    "#             'going down the stairs', 'sitting', 'standing', 'laying', 'all']\n",
    "# tab.columns = ['cluster' + str(i + 1) for i in range(6)] + ['all']\n",
    "# tab"
   ]
  },
  {
   "cell_type": "code",
   "execution_count": 17,
   "id": "e7b080a4",
   "metadata": {},
   "outputs": [],
   "source": [
    "# # You code here (read-only in a JupyterBook, pls download as .ipynb and run jupyter-notebook to edit)\n",
    "# inertia = []\n",
    "# for k in tqdm_notebook(range(1, n_classes + 1)):\n",
    "#     pass"
   ]
  },
  {
   "cell_type": "code",
   "execution_count": 18,
   "id": "53a11788",
   "metadata": {},
   "outputs": [],
   "source": [
    "# ag = AgglomerativeClustering(n_clusters=n_classes,\n",
    "#                              linkage='ward').fit(X_pca)"
   ]
  },
  {
   "cell_type": "code",
   "execution_count": 19,
   "id": "0a3686d4",
   "metadata": {},
   "outputs": [],
   "source": [
    "# You code here (read-only in a JupyterBook, pls download as .ipynb and run jupyter-notebook to edit)"
   ]
  },
  {
   "cell_type": "code",
   "execution_count": 20,
   "id": "1f67f7ab",
   "metadata": {},
   "outputs": [],
   "source": [
    "# # You code here (read-only in a JupyterBook, pls download as .ipynb and run jupyter-notebook to edit)\n",
    "# scaler = StandardScaler()\n",
    "# X_train_scaled =\n",
    "# X_test_scaled ="
   ]
  },
  {
   "cell_type": "code",
   "execution_count": 21,
   "id": "2e9ca98e",
   "metadata": {},
   "outputs": [],
   "source": [
    "svc = LinearSVC(random_state=RANDOM_STATE)\n",
    "svc_params = {\"C\": [0.001, 0.01, 0.1, 1, 10]}"
   ]
  },
  {
   "cell_type": "code",
   "execution_count": 22,
   "id": "edff0d2b",
   "metadata": {},
   "outputs": [],
   "source": [
    "# %%time\n",
    "# # You code here (read-only in a JupyterBook, pls download as .ipynb and run jupyter-notebook to edit)\n",
    "# best_svc = None"
   ]
  },
  {
   "cell_type": "code",
   "execution_count": 23,
   "id": "415c5b7a",
   "metadata": {},
   "outputs": [],
   "source": [
    "# best_svc.best_params_, best_svc.best_score_"
   ]
  },
  {
   "cell_type": "code",
   "execution_count": 24,
   "id": "7f727960",
   "metadata": {},
   "outputs": [],
   "source": [
    "# y_predicted = best_svc.predict(X_test_scaled)"
   ]
  },
  {
   "cell_type": "code",
   "execution_count": 25,
   "id": "92208eb3",
   "metadata": {},
   "outputs": [],
   "source": [
    "# tab = pd.crosstab(y_test, y_predicted, margins=True)\n",
    "# tab.index = ['walking', 'climbing up the stairs',\n",
    "#              'going down the stairs', 'sitting', 'standing', 'laying', 'all']\n",
    "# tab.columns = ['walking', 'climbing up the stairs',\n",
    "#              'going down the stairs', 'sitting', 'standing', 'laying', 'all']\n",
    "# tab"
   ]
  },
  {
   "cell_type": "code",
   "execution_count": 26,
   "id": "041828a8",
   "metadata": {},
   "outputs": [],
   "source": [
    "# You code here (read-only in a JupyterBook, pls download as .ipynb and run jupyter-notebook to edit)"
   ]
  }
 ],
 "metadata": {
  "jupytext": {
   "formats": "md:myst",
   "text_representation": {
    "extension": ".md",
    "format_name": "myst"
   }
  },
  "kernelspec": {
   "display_name": "Python 3",
   "language": "python",
   "name": "python3"
  },
  "language_info": {
   "codemirror_mode": {
    "name": "ipython",
    "version": 3
   },
   "file_extension": ".py",
   "mimetype": "text/x-python",
   "name": "python",
   "nbconvert_exporter": "python",
   "pygments_lexer": "ipython3",
   "version": "3.8.12"
  },
  "source_map": [
   11,
   34,
   63,
   83,
   94,
   103,
   107,
   112,
   114,
   119,
   124,
   126,
   139,
   141,
   146,
   150,
   156,
   158,
   176,
   178,
   183,
   186,
   210,
   212,
   217,
   220,
   225,
   231,
   255,
   260,
   276,
   279,
   284,
   286,
   308,
   316,
   322,
   329,
   331,
   344,
   349,
   356,
   384,
   386
  ]
 },
 "nbformat": 4,
 "nbformat_minor": 5
}