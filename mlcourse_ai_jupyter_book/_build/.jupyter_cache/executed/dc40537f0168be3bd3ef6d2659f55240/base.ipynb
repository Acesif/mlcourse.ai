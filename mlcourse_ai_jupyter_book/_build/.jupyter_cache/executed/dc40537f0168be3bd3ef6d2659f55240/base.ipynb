{
 "cells": [
  {
   "cell_type": "code",
   "execution_count": 1,
   "id": "9cf005d3",
   "metadata": {},
   "outputs": [
    {
     "name": "stdout",
     "output_type": "stream",
     "text": [
      "/private/var/folders/xs/x4nxtnxd4qq06sg5z0x951q1q7mkqq/T/tmp9zvn4c93\n",
      "[PosixPath('../../data/aclImdb'), PosixPath('../../data/renthop_train.json.gz'), PosixPath('../../data/faces')]\n"
     ]
    }
   ],
   "source": [
    "# some necessary imports\n",
    "from pathlib import Path\n",
    "import pandas as pd\n",
    "DATA_PATH = Path(\"../../data\")\n",
    "\n",
    "print(Path('.').absolute())\n",
    "print(list(DATA_PATH.glob('*')))"
   ]
  },
  {
   "cell_type": "code",
   "execution_count": 2,
   "id": "bcee3d5a",
   "metadata": {},
   "outputs": [],
   "source": [
    "#train_df = pd.read_csv(DATA_PATH / \"athlete_events.csv.zip\")\n",
    "#train_df.head()-->"
   ]
  }
 ],
 "metadata": {
  "jupytext": {
   "formats": "md:myst",
   "text_representation": {
    "extension": ".md",
    "format_name": "myst"
   }
  },
  "kernelspec": {
   "display_name": "Python 3",
   "language": "python",
   "name": "python3"
  },
  "language_info": {
   "codemirror_mode": {
    "name": "ipython",
    "version": 3
   },
   "file_extension": ".py",
   "mimetype": "text/x-python",
   "name": "python",
   "nbconvert_exporter": "python",
   "pygments_lexer": "ipython3",
   "version": "3.8.8"
  },
  "source_map": [
   11,
   24,
   34
  ]
 },
 "nbformat": 4,
 "nbformat_minor": 5
}