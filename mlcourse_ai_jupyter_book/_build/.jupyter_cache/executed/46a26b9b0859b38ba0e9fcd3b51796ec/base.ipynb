{
 "cells": [
  {
   "cell_type": "code",
   "execution_count": 1,
   "id": "398b580b",
   "metadata": {},
   "outputs": [],
   "source": [
    "import warnings\n",
    "warnings.filterwarnings(\"ignore\")\n",
    "\n",
    "import numpy as np\n",
    "import pandas as pd\n",
    "from sklearn.ensemble import RandomForestRegressor\n",
    "from sklearn.linear_model import Lasso, LassoCV, LinearRegression\n",
    "from sklearn.metrics import mean_squared_error\n",
    "from sklearn.model_selection import (GridSearchCV, cross_val_score,\n",
    "                                     train_test_split)\n",
    "from sklearn.preprocessing import StandardScaler"
   ]
  },
  {
   "cell_type": "code",
   "execution_count": 2,
   "id": "c0712e32",
   "metadata": {},
   "outputs": [],
   "source": [
    "# for Jupyter-book, we copy data from GitHub, locally, to save Internet traffic,\n",
    "# you can specify the data/ folder from the root of your cloned\n",
    "# https://github.com/Yorko/mlcourse.ai repo, to save Internet traffic\n",
    "DATA_PATH = \"https://raw.githubusercontent.com/Yorko/mlcourse.ai/master/data/\""
   ]
  },
  {
   "cell_type": "code",
   "execution_count": 3,
   "id": "c1a9d058",
   "metadata": {},
   "outputs": [],
   "source": [
    "data = pd.read_csv(DATA_PATH + \"winequality-white.csv\", sep=\";\")"
   ]
  },
  {
   "cell_type": "code",
   "execution_count": 4,
   "id": "79216405",
   "metadata": {},
   "outputs": [
    {
     "data": {
      "text/html": [
       "<div>\n",
       "<style scoped>\n",
       "    .dataframe tbody tr th:only-of-type {\n",
       "        vertical-align: middle;\n",
       "    }\n",
       "\n",
       "    .dataframe tbody tr th {\n",
       "        vertical-align: top;\n",
       "    }\n",
       "\n",
       "    .dataframe thead th {\n",
       "        text-align: right;\n",
       "    }\n",
       "</style>\n",
       "<table border=\"1\" class=\"dataframe\">\n",
       "  <thead>\n",
       "    <tr style=\"text-align: right;\">\n",
       "      <th></th>\n",
       "      <th>fixed acidity</th>\n",
       "      <th>volatile acidity</th>\n",
       "      <th>citric acid</th>\n",
       "      <th>residual sugar</th>\n",
       "      <th>chlorides</th>\n",
       "      <th>free sulfur dioxide</th>\n",
       "      <th>total sulfur dioxide</th>\n",
       "      <th>density</th>\n",
       "      <th>pH</th>\n",
       "      <th>sulphates</th>\n",
       "      <th>alcohol</th>\n",
       "      <th>quality</th>\n",
       "    </tr>\n",
       "  </thead>\n",
       "  <tbody>\n",
       "    <tr>\n",
       "      <th>0</th>\n",
       "      <td>7.0</td>\n",
       "      <td>0.27</td>\n",
       "      <td>0.36</td>\n",
       "      <td>20.7</td>\n",
       "      <td>0.045</td>\n",
       "      <td>45.0</td>\n",
       "      <td>170.0</td>\n",
       "      <td>1.0010</td>\n",
       "      <td>3.00</td>\n",
       "      <td>0.45</td>\n",
       "      <td>8.8</td>\n",
       "      <td>6</td>\n",
       "    </tr>\n",
       "    <tr>\n",
       "      <th>1</th>\n",
       "      <td>6.3</td>\n",
       "      <td>0.30</td>\n",
       "      <td>0.34</td>\n",
       "      <td>1.6</td>\n",
       "      <td>0.049</td>\n",
       "      <td>14.0</td>\n",
       "      <td>132.0</td>\n",
       "      <td>0.9940</td>\n",
       "      <td>3.30</td>\n",
       "      <td>0.49</td>\n",
       "      <td>9.5</td>\n",
       "      <td>6</td>\n",
       "    </tr>\n",
       "    <tr>\n",
       "      <th>2</th>\n",
       "      <td>8.1</td>\n",
       "      <td>0.28</td>\n",
       "      <td>0.40</td>\n",
       "      <td>6.9</td>\n",
       "      <td>0.050</td>\n",
       "      <td>30.0</td>\n",
       "      <td>97.0</td>\n",
       "      <td>0.9951</td>\n",
       "      <td>3.26</td>\n",
       "      <td>0.44</td>\n",
       "      <td>10.1</td>\n",
       "      <td>6</td>\n",
       "    </tr>\n",
       "    <tr>\n",
       "      <th>3</th>\n",
       "      <td>7.2</td>\n",
       "      <td>0.23</td>\n",
       "      <td>0.32</td>\n",
       "      <td>8.5</td>\n",
       "      <td>0.058</td>\n",
       "      <td>47.0</td>\n",
       "      <td>186.0</td>\n",
       "      <td>0.9956</td>\n",
       "      <td>3.19</td>\n",
       "      <td>0.40</td>\n",
       "      <td>9.9</td>\n",
       "      <td>6</td>\n",
       "    </tr>\n",
       "    <tr>\n",
       "      <th>4</th>\n",
       "      <td>7.2</td>\n",
       "      <td>0.23</td>\n",
       "      <td>0.32</td>\n",
       "      <td>8.5</td>\n",
       "      <td>0.058</td>\n",
       "      <td>47.0</td>\n",
       "      <td>186.0</td>\n",
       "      <td>0.9956</td>\n",
       "      <td>3.19</td>\n",
       "      <td>0.40</td>\n",
       "      <td>9.9</td>\n",
       "      <td>6</td>\n",
       "    </tr>\n",
       "  </tbody>\n",
       "</table>\n",
       "</div>"
      ],
      "text/plain": [
       "   fixed acidity  volatile acidity  citric acid  residual sugar  chlorides  \\\n",
       "0            7.0              0.27         0.36            20.7      0.045   \n",
       "1            6.3              0.30         0.34             1.6      0.049   \n",
       "2            8.1              0.28         0.40             6.9      0.050   \n",
       "3            7.2              0.23         0.32             8.5      0.058   \n",
       "4            7.2              0.23         0.32             8.5      0.058   \n",
       "\n",
       "   free sulfur dioxide  total sulfur dioxide  density    pH  sulphates  \\\n",
       "0                 45.0                 170.0   1.0010  3.00       0.45   \n",
       "1                 14.0                 132.0   0.9940  3.30       0.49   \n",
       "2                 30.0                  97.0   0.9951  3.26       0.44   \n",
       "3                 47.0                 186.0   0.9956  3.19       0.40   \n",
       "4                 47.0                 186.0   0.9956  3.19       0.40   \n",
       "\n",
       "   alcohol  quality  \n",
       "0      8.8        6  \n",
       "1      9.5        6  \n",
       "2     10.1        6  \n",
       "3      9.9        6  \n",
       "4      9.9        6  "
      ]
     },
     "execution_count": 4,
     "metadata": {},
     "output_type": "execute_result"
    }
   ],
   "source": [
    "data.head()"
   ]
  },
  {
   "cell_type": "code",
   "execution_count": 5,
   "id": "ad6cb399",
   "metadata": {},
   "outputs": [
    {
     "name": "stdout",
     "output_type": "stream",
     "text": [
      "<class 'pandas.core.frame.DataFrame'>\n",
      "RangeIndex: 4898 entries, 0 to 4897\n",
      "Data columns (total 12 columns):\n",
      " #   Column                Non-Null Count  Dtype  \n",
      "---  ------                --------------  -----  \n",
      " 0   fixed acidity         4898 non-null   float64\n",
      " 1   volatile acidity      4898 non-null   float64\n",
      " 2   citric acid           4898 non-null   float64\n",
      " 3   residual sugar        4898 non-null   float64\n",
      " 4   chlorides             4898 non-null   float64\n",
      " 5   free sulfur dioxide   4898 non-null   float64\n",
      " 6   total sulfur dioxide  4898 non-null   float64\n",
      " 7   density               4898 non-null   float64\n",
      " 8   pH                    4898 non-null   float64\n",
      " 9   sulphates             4898 non-null   float64\n",
      " 10  alcohol               4898 non-null   float64\n",
      " 11  quality               4898 non-null   int64  \n",
      "dtypes: float64(11), int64(1)\n",
      "memory usage: 459.3 KB\n"
     ]
    }
   ],
   "source": [
    "data.info()"
   ]
  },
  {
   "cell_type": "code",
   "execution_count": 6,
   "id": "0c52cd74",
   "metadata": {},
   "outputs": [],
   "source": [
    "# y = None\n",
    "\n",
    "# X_train, X_holdout, y_train, y_holdout = train_test_split\n",
    "# scaler = StandardScaler()\n",
    "# X_train_scaled = scaler.fit_transform\n",
    "# X_holdout_scaled = scaler.transform"
   ]
  },
  {
   "cell_type": "code",
   "execution_count": 7,
   "id": "0b4ebf30",
   "metadata": {},
   "outputs": [],
   "source": [
    "# (read-only in a JupyterBook, pls run jupyter-notebook to edit)\n",
    "# linreg =\n",
    "# linreg.fit"
   ]
  },
  {
   "cell_type": "code",
   "execution_count": 8,
   "id": "5c2a2c24",
   "metadata": {},
   "outputs": [],
   "source": [
    "# (read-only in a JupyterBook, pls run jupyter-notebook to edit)\n",
    "# print(\"Mean squared error (train): %.3f\"\n",
    "# print(\"Mean squared error (test): %.3f\" %"
   ]
  },
  {
   "cell_type": "code",
   "execution_count": 9,
   "id": "8ca2a11a",
   "metadata": {},
   "outputs": [],
   "source": [
    "# (read-only in a JupyterBook, pls run jupyter-notebook to edit)\n",
    "# linreg_coef = pd.DataFrame\n",
    "# linreg_coef.sort_values"
   ]
  },
  {
   "cell_type": "code",
   "execution_count": 10,
   "id": "8e2d6886",
   "metadata": {},
   "outputs": [],
   "source": [
    "# (read-only in a JupyterBook, pls run jupyter-notebook to edit)\n",
    "# lasso1 = Lasso\n",
    "# lasso1.fit"
   ]
  },
  {
   "cell_type": "code",
   "execution_count": 11,
   "id": "93084786",
   "metadata": {},
   "outputs": [],
   "source": [
    "# (read-only in a JupyterBook, pls run jupyter-notebook to edit)\n",
    "# lasso1_coef = pd.DataFrame\n",
    "# lasso1_coef.sort_values"
   ]
  },
  {
   "cell_type": "code",
   "execution_count": 12,
   "id": "50cd682d",
   "metadata": {},
   "outputs": [],
   "source": [
    "# (read-only in a JupyterBook, pls run jupyter-notebook to edit)\n",
    "# alphas = np.logspace(-6, 2, 200)\n",
    "# lasso_cv = LassoCV\n",
    "# lasso_cv.fit"
   ]
  },
  {
   "cell_type": "code",
   "execution_count": 13,
   "id": "2ff023a2",
   "metadata": {},
   "outputs": [],
   "source": [
    "# lasso_cv.alpha_"
   ]
  },
  {
   "cell_type": "code",
   "execution_count": 14,
   "id": "385612b0",
   "metadata": {},
   "outputs": [],
   "source": [
    "# (read-only in a JupyterBook, pls run jupyter-notebook to edit)\n",
    "# lasso_cv_coef = pd.DataFrame\n",
    "# lasso_cv_coef.sort_values"
   ]
  },
  {
   "cell_type": "code",
   "execution_count": 15,
   "id": "695b48c7",
   "metadata": {},
   "outputs": [],
   "source": [
    "# (read-only in a JupyterBook, pls run jupyter-notebook to edit)\n",
    "# print(\"Mean squared error (train): %.3f\"\n",
    "# print(\"Mean squared error (test): %.3f\" %"
   ]
  },
  {
   "cell_type": "code",
   "execution_count": 16,
   "id": "47ac591f",
   "metadata": {},
   "outputs": [],
   "source": [
    "# (read-only in a JupyterBook, pls run jupyter-notebook to edit)\n",
    "# forest = RandomForestRegressor\n",
    "# forest.fit"
   ]
  },
  {
   "cell_type": "code",
   "execution_count": 17,
   "id": "d460cbab",
   "metadata": {},
   "outputs": [],
   "source": [
    "# (read-only in a JupyterBook, pls run jupyter-notebook to edit)\n",
    "# print(\"Mean squared error (train): %.3f\" %\n",
    "# print(\"Mean squared error (cv): %.3f\" %\n",
    "# print(\"Mean squared error (test): %.3f\" %"
   ]
  },
  {
   "cell_type": "code",
   "execution_count": 18,
   "id": "34dde279",
   "metadata": {},
   "outputs": [],
   "source": [
    "# (read-only in a JupyterBook, pls run jupyter-notebook to edit)\n",
    "# forest_params = {'max_depth': list(range(10, 25)),\n",
    "#                  'min_samples_leaf': list(range(1, 8)),\n",
    "#                  'max_features': list(range(6,12))}\n",
    "\n",
    "# locally_best_forest = GridSearchCV\n",
    "# locally_best_forest.fit"
   ]
  },
  {
   "cell_type": "code",
   "execution_count": 19,
   "id": "a67c5504",
   "metadata": {},
   "outputs": [],
   "source": [
    "# locally_best_forest.best_params_, locally_best_forest.best_score_"
   ]
  },
  {
   "cell_type": "code",
   "execution_count": 20,
   "id": "c16f4a12",
   "metadata": {},
   "outputs": [],
   "source": [
    "# (read-only in a JupyterBook, pls run jupyter-notebook to edit)\n",
    "# print(\"Mean squared error (cv): %.3f\" %\n",
    "# print(\"Mean squared error (test): %.3f\" %"
   ]
  },
  {
   "cell_type": "code",
   "execution_count": 21,
   "id": "dc9e3830",
   "metadata": {},
   "outputs": [],
   "source": [
    "# (read-only in a JupyterBook, pls run jupyter-notebook to edit)\n",
    "# rf_importance = pd.DataFrame  \n",
    "# rf_importance.sort_values  "
   ]
  }
 ],
 "metadata": {
  "jupytext": {
   "formats": "md:myst",
   "text_representation": {
    "extension": ".md",
    "format_name": "myst"
   }
  },
  "kernelspec": {
   "display_name": "Python 3",
   "language": "python",
   "name": "python3"
  },
  "language_info": {
   "codemirror_mode": {
    "name": "ipython",
    "version": 3
   },
   "file_extension": ".py",
   "mimetype": "text/x-python",
   "name": "python",
   "nbconvert_exporter": "python",
   "pygments_lexer": "ipython3",
   "version": "3.8.12"
  },
  "source_map": [
   11,
   30,
   42,
   47,
   55,
   60,
   65,
   67,
   72,
   79,
   86,
   90,
   95,
   99,
   106,
   110,
   117,
   121,
   126,
   130,
   135,
   143,
   145,
   150,
   154,
   159,
   163,
   170,
   174,
   179,
   184,
   189,
   200,
   202,
   207,
   211,
   217,
   221
  ]
 },
 "nbformat": 4,
 "nbformat_minor": 5
}